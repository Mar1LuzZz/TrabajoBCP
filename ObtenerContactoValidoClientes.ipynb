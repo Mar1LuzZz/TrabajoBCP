{
 "cells": [
  {
   "cell_type": "code",
   "execution_count": 1,
   "id": "7fabfed9",
   "metadata": {},
   "outputs": [],
   "source": [
    "import pandas as pd \n",
    "import numpy as np"
   ]
  },
  {
   "cell_type": "code",
   "execution_count": 2,
   "id": "89cfbb65",
   "metadata": {},
   "outputs": [],
   "source": [
    "SCC=pd.read_excel(\"Gestión de Leads_SCC.xlsx\")"
   ]
  },
  {
   "cell_type": "code",
   "execution_count": 3,
   "id": "1f5a1f75",
   "metadata": {},
   "outputs": [
    {
     "name": "stdout",
     "output_type": "stream",
     "text": [
      "<class 'pandas.core.frame.DataFrame'>\n",
      "RangeIndex: 62831 entries, 0 to 62830\n",
      "Data columns (total 28 columns):\n",
      " #   Column                          Non-Null Count  Dtype         \n",
      "---  ------                          --------------  -----         \n",
      " 0   FECHA_GESTION                   62831 non-null  object        \n",
      " 1   HORA_GESTION                    62831 non-null  object        \n",
      " 2   DURACION                        62831 non-null  int64         \n",
      " 3   DNI_AGENTE                      62831 non-null  int64         \n",
      " 4   DESCRIPCION_AGENTE              62831 non-null  object        \n",
      " 5   DESCRIPCION_GRUPO_TIPIFICACION  62831 non-null  object        \n",
      " 6   DESCRIPCION_TIPIFICACION        62784 non-null  object        \n",
      " 7   OBSERVACIONES                   4365 non-null   object        \n",
      " 8   CODIGO_GESTION                  62831 non-null  int64         \n",
      " 9   CODIGO_AGENTE                   62831 non-null  int64         \n",
      " 10  TELEFONO_GESTION                62831 non-null  int64         \n",
      " 11  AFILIADOS                       815 non-null    float64       \n",
      " 12  FRECUENCIA_PAGO                 815 non-null    object        \n",
      " 13  PROGRAMA_AFILIADO               815 non-null    object        \n",
      " 14  TIPO_VENTA                      815 non-null    object        \n",
      " 15  SERVICIO                        815 non-null    object        \n",
      " 16  BBDD                            62831 non-null  object        \n",
      " 17  TYPE_LIST_DATE                  62831 non-null  datetime64[ns]\n",
      " 18  VENTA_ANI                       815 non-null    float64       \n",
      " 19  VENTA_CELULAR                   815 non-null    float64       \n",
      " 20  DNI_CONTRATANTE                 815 non-null    float64       \n",
      " 21  NOMBRE_CONTRATANTE              812 non-null    object        \n",
      " 22  INTEGRACION                     45823 non-null  object        \n",
      " 23  UTM_CAMPAIGN                    39567 non-null  object        \n",
      " 24  UTM_CONTENT                     36252 non-null  object        \n",
      " 25  UTM_MEDIUM                      36657 non-null  object        \n",
      " 26  UTM_SOURCE                      38121 non-null  object        \n",
      " 27  PRIORIDAD                       62831 non-null  int64         \n",
      "dtypes: datetime64[ns](1), float64(4), int64(6), object(17)\n",
      "memory usage: 13.4+ MB\n"
     ]
    }
   ],
   "source": [
    "SCC.info()"
   ]
  },
  {
   "cell_type": "code",
   "execution_count": 5,
   "id": "04b7954f",
   "metadata": {},
   "outputs": [
    {
     "data": {
      "text/plain": [
       "array(['16/02/2023', '02/02/2023', '28/02/2023', '09/02/2023',\n",
       "       '11/02/2023', '15/02/2023', '10/02/2023', '23/02/2023',\n",
       "       '24/02/2023', '25/02/2023', '27/02/2023', '14/02/2023',\n",
       "       '22/02/2023', '08/02/2023', '06/02/2023', '18/02/2023',\n",
       "       '17/02/2023', '21/02/2023', '13/02/2023', '03/02/2023',\n",
       "       '20/02/2023', '07/02/2023', '04/02/2023', '01/02/2023'],\n",
       "      dtype=object)"
      ]
     },
     "execution_count": 5,
     "metadata": {},
     "output_type": "execute_result"
    }
   ],
   "source": [
    "SCC['FECHA_GESTION'].unique()"
   ]
  },
  {
   "cell_type": "code",
   "execution_count": 8,
   "id": "7d6eb53a",
   "metadata": {},
   "outputs": [
    {
     "data": {
      "text/html": [
       "<div>\n",
       "<style scoped>\n",
       "    .dataframe tbody tr th:only-of-type {\n",
       "        vertical-align: middle;\n",
       "    }\n",
       "\n",
       "    .dataframe tbody tr th {\n",
       "        vertical-align: top;\n",
       "    }\n",
       "\n",
       "    .dataframe thead th {\n",
       "        text-align: right;\n",
       "    }\n",
       "</style>\n",
       "<table border=\"1\" class=\"dataframe\">\n",
       "  <thead>\n",
       "    <tr style=\"text-align: right;\">\n",
       "      <th></th>\n",
       "      <th>FECHA_GESTION</th>\n",
       "      <th>HORA_GESTION</th>\n",
       "      <th>DURACION</th>\n",
       "      <th>DNI_AGENTE</th>\n",
       "      <th>DESCRIPCION_AGENTE</th>\n",
       "      <th>DESCRIPCION_GRUPO_TIPIFICACION</th>\n",
       "      <th>DESCRIPCION_TIPIFICACION</th>\n",
       "      <th>OBSERVACIONES</th>\n",
       "      <th>CODIGO_GESTION</th>\n",
       "      <th>CODIGO_AGENTE</th>\n",
       "      <th>...</th>\n",
       "      <th>VENTA_ANI</th>\n",
       "      <th>VENTA_CELULAR</th>\n",
       "      <th>DNI_CONTRATANTE</th>\n",
       "      <th>NOMBRE_CONTRATANTE</th>\n",
       "      <th>INTEGRACION</th>\n",
       "      <th>UTM_CAMPAIGN</th>\n",
       "      <th>UTM_CONTENT</th>\n",
       "      <th>UTM_MEDIUM</th>\n",
       "      <th>UTM_SOURCE</th>\n",
       "      <th>PRIORIDAD</th>\n",
       "    </tr>\n",
       "  </thead>\n",
       "  <tbody>\n",
       "    <tr>\n",
       "      <th>0</th>\n",
       "      <td>16/02/2023</td>\n",
       "      <td>15:01:11</td>\n",
       "      <td>0</td>\n",
       "      <td>76134563</td>\n",
       "      <td>MARIA  TERESA NUÑEZ HERRERA</td>\n",
       "      <td>CONTACTO VÁLIDO</td>\n",
       "      <td>NO DESEA / CUENTA OTRO SEGURO</td>\n",
       "      <td>NaN</td>\n",
       "      <td>70641054</td>\n",
       "      <td>10206</td>\n",
       "      <td>...</td>\n",
       "      <td>NaN</td>\n",
       "      <td>NaN</td>\n",
       "      <td>NaN</td>\n",
       "      <td>NaN</td>\n",
       "      <td>NaN</td>\n",
       "      <td>NaN</td>\n",
       "      <td>NaN</td>\n",
       "      <td>NaN</td>\n",
       "      <td>NaN</td>\n",
       "      <td>1</td>\n",
       "    </tr>\n",
       "    <tr>\n",
       "      <th>1</th>\n",
       "      <td>02/02/2023</td>\n",
       "      <td>12:42:24</td>\n",
       "      <td>103</td>\n",
       "      <td>44881000</td>\n",
       "      <td>ERWIN MACEDO MEZA</td>\n",
       "      <td>CONTACTO VÁLIDO</td>\n",
       "      <td>VENTA SAP</td>\n",
       "      <td>FICHA DE PRUEBA</td>\n",
       "      <td>70413086</td>\n",
       "      <td>7555</td>\n",
       "      <td>...</td>\n",
       "      <td>NaN</td>\n",
       "      <td>NaN</td>\n",
       "      <td>NaN</td>\n",
       "      <td>NaN</td>\n",
       "      <td>NaN</td>\n",
       "      <td>NaN</td>\n",
       "      <td>NaN</td>\n",
       "      <td>NaN</td>\n",
       "      <td>NaN</td>\n",
       "      <td>1</td>\n",
       "    </tr>\n",
       "    <tr>\n",
       "      <th>2</th>\n",
       "      <td>02/02/2023</td>\n",
       "      <td>12:48:05</td>\n",
       "      <td>23</td>\n",
       "      <td>44881000</td>\n",
       "      <td>ERWIN MACEDO MEZA</td>\n",
       "      <td>CONTACTO VÁLIDO</td>\n",
       "      <td>VENTA SAP</td>\n",
       "      <td>FICHA DE PRUEBA</td>\n",
       "      <td>70413274</td>\n",
       "      <td>7555</td>\n",
       "      <td>...</td>\n",
       "      <td>NaN</td>\n",
       "      <td>NaN</td>\n",
       "      <td>NaN</td>\n",
       "      <td>NaN</td>\n",
       "      <td>NaN</td>\n",
       "      <td>NaN</td>\n",
       "      <td>NaN</td>\n",
       "      <td>NaN</td>\n",
       "      <td>NaN</td>\n",
       "      <td>1</td>\n",
       "    </tr>\n",
       "    <tr>\n",
       "      <th>3</th>\n",
       "      <td>28/02/2023</td>\n",
       "      <td>16:13:52</td>\n",
       "      <td>0</td>\n",
       "      <td>76878427</td>\n",
       "      <td>HANNI BETTY  NANCHI MAYAK</td>\n",
       "      <td>NO CONTACTO</td>\n",
       "      <td>TIMBRE SIN CONTESTAR</td>\n",
       "      <td>NaN</td>\n",
       "      <td>70859311</td>\n",
       "      <td>10192</td>\n",
       "      <td>...</td>\n",
       "      <td>NaN</td>\n",
       "      <td>NaN</td>\n",
       "      <td>NaN</td>\n",
       "      <td>NaN</td>\n",
       "      <td>NaN</td>\n",
       "      <td>NaN</td>\n",
       "      <td>NaN</td>\n",
       "      <td>NaN</td>\n",
       "      <td>NaN</td>\n",
       "      <td>1</td>\n",
       "    </tr>\n",
       "    <tr>\n",
       "      <th>4</th>\n",
       "      <td>09/02/2023</td>\n",
       "      <td>12:45:11</td>\n",
       "      <td>0</td>\n",
       "      <td>72657892</td>\n",
       "      <td>YOMAIRA CAMILA CAMA ALBINAGORTA</td>\n",
       "      <td>NO CONTACTO</td>\n",
       "      <td>TIMBRE SIN CONTESTAR</td>\n",
       "      <td>NaN</td>\n",
       "      <td>70521577</td>\n",
       "      <td>10172</td>\n",
       "      <td>...</td>\n",
       "      <td>NaN</td>\n",
       "      <td>NaN</td>\n",
       "      <td>NaN</td>\n",
       "      <td>NaN</td>\n",
       "      <td>NaN</td>\n",
       "      <td>NaN</td>\n",
       "      <td>NaN</td>\n",
       "      <td>NaN</td>\n",
       "      <td>NaN</td>\n",
       "      <td>1</td>\n",
       "    </tr>\n",
       "  </tbody>\n",
       "</table>\n",
       "<p>5 rows × 28 columns</p>\n",
       "</div>"
      ],
      "text/plain": [
       "  FECHA_GESTION HORA_GESTION  DURACION  DNI_AGENTE  \\\n",
       "0    16/02/2023     15:01:11         0    76134563   \n",
       "1    02/02/2023     12:42:24       103    44881000   \n",
       "2    02/02/2023     12:48:05        23    44881000   \n",
       "3    28/02/2023     16:13:52         0    76878427   \n",
       "4    09/02/2023     12:45:11         0    72657892   \n",
       "\n",
       "                DESCRIPCION_AGENTE DESCRIPCION_GRUPO_TIPIFICACION  \\\n",
       "0     MARIA  TERESA NUÑEZ HERRERA                 CONTACTO VÁLIDO   \n",
       "1                ERWIN MACEDO MEZA                CONTACTO VÁLIDO   \n",
       "2                ERWIN MACEDO MEZA                CONTACTO VÁLIDO   \n",
       "3       HANNI BETTY  NANCHI MAYAK                     NO CONTACTO   \n",
       "4  YOMAIRA CAMILA CAMA ALBINAGORTA                    NO CONTACTO   \n",
       "\n",
       "        DESCRIPCION_TIPIFICACION    OBSERVACIONES  CODIGO_GESTION  \\\n",
       "0  NO DESEA / CUENTA OTRO SEGURO              NaN        70641054   \n",
       "1                      VENTA SAP  FICHA DE PRUEBA        70413086   \n",
       "2                      VENTA SAP  FICHA DE PRUEBA        70413274   \n",
       "3           TIMBRE SIN CONTESTAR              NaN        70859311   \n",
       "4           TIMBRE SIN CONTESTAR              NaN        70521577   \n",
       "\n",
       "   CODIGO_AGENTE  ...  VENTA_ANI  VENTA_CELULAR DNI_CONTRATANTE  \\\n",
       "0          10206  ...        NaN            NaN             NaN   \n",
       "1           7555  ...        NaN            NaN             NaN   \n",
       "2           7555  ...        NaN            NaN             NaN   \n",
       "3          10192  ...        NaN            NaN             NaN   \n",
       "4          10172  ...        NaN            NaN             NaN   \n",
       "\n",
       "  NOMBRE_CONTRATANTE INTEGRACION UTM_CAMPAIGN UTM_CONTENT UTM_MEDIUM  \\\n",
       "0                NaN         NaN          NaN         NaN        NaN   \n",
       "1                NaN         NaN          NaN         NaN        NaN   \n",
       "2                NaN         NaN          NaN         NaN        NaN   \n",
       "3                NaN         NaN          NaN         NaN        NaN   \n",
       "4                NaN         NaN          NaN         NaN        NaN   \n",
       "\n",
       "   UTM_SOURCE  PRIORIDAD  \n",
       "0         NaN          1  \n",
       "1         NaN          1  \n",
       "2         NaN          1  \n",
       "3         NaN          1  \n",
       "4         NaN          1  \n",
       "\n",
       "[5 rows x 28 columns]"
      ]
     },
     "execution_count": 8,
     "metadata": {},
     "output_type": "execute_result"
    }
   ],
   "source": [
    "SCC.head()"
   ]
  },
  {
   "cell_type": "code",
   "execution_count": 10,
   "id": "f98d93c1",
   "metadata": {},
   "outputs": [
    {
     "data": {
      "text/plain": [
       "Index(['FECHA_GESTION', 'HORA_GESTION', 'DURACION', 'DNI_AGENTE',\n",
       "       'DESCRIPCION_AGENTE', 'DESCRIPCION_GRUPO_TIPIFICACION',\n",
       "       'DESCRIPCION_TIPIFICACION', 'OBSERVACIONES', 'CODIGO_GESTION',\n",
       "       'CODIGO_AGENTE', 'TELEFONO_GESTION', 'AFILIADOS', 'FRECUENCIA_PAGO',\n",
       "       'PROGRAMA_AFILIADO', 'TIPO_VENTA', 'SERVICIO', 'BBDD', 'TYPE_LIST_DATE',\n",
       "       'VENTA_ANI', 'VENTA_CELULAR', 'DNI_CONTRATANTE', 'NOMBRE_CONTRATANTE',\n",
       "       'INTEGRACION', 'UTM_CAMPAIGN', 'UTM_CONTENT', 'UTM_MEDIUM',\n",
       "       'UTM_SOURCE', 'PRIORIDAD'],\n",
       "      dtype='object')"
      ]
     },
     "execution_count": 10,
     "metadata": {},
     "output_type": "execute_result"
    }
   ],
   "source": [
    "SCC.columns"
   ]
  },
  {
   "cell_type": "code",
   "execution_count": 12,
   "id": "6418b4c9",
   "metadata": {},
   "outputs": [
    {
     "data": {
      "text/plain": [
       "array(['CONTACTO VÁLIDO', 'NO CONTACTO', 'CONTACTO NO VÁLIDO'],\n",
       "      dtype=object)"
      ]
     },
     "execution_count": 12,
     "metadata": {},
     "output_type": "execute_result"
    }
   ],
   "source": [
    "SCC.DESCRIPCION_GRUPO_TIPIFICACION.unique()"
   ]
  },
  {
   "cell_type": "code",
   "execution_count": 16,
   "id": "5c27e8b8",
   "metadata": {},
   "outputs": [
    {
     "data": {
      "text/plain": [
       "DESCRIPCION_GRUPO_TIPIFICACION\n",
       "CONTACTO NO VÁLIDO    16162\n",
       "CONTACTO VÁLIDO       15405\n",
       "NO CONTACTO           31264\n",
       "Name: TELEFONO_GESTION, dtype: int64"
      ]
     },
     "execution_count": 16,
     "metadata": {},
     "output_type": "execute_result"
    }
   ],
   "source": [
    "SCC.groupby('DESCRIPCION_GRUPO_TIPIFICACION')['TELEFONO_GESTION'].count()"
   ]
  },
  {
   "cell_type": "code",
   "execution_count": 18,
   "id": "abaf6b4c",
   "metadata": {},
   "outputs": [
    {
     "data": {
      "text/plain": [
       "DESCRIPCION_GRUPO_TIPIFICACION\n",
       "CONTACTO NO VÁLIDO    13371\n",
       "CONTACTO VÁLIDO        9651\n",
       "NO CONTACTO           12856\n",
       "Name: TELEFONO_GESTION, dtype: int64"
      ]
     },
     "execution_count": 18,
     "metadata": {},
     "output_type": "execute_result"
    }
   ],
   "source": [
    "SCC.groupby('DESCRIPCION_GRUPO_TIPIFICACION')['TELEFONO_GESTION'].nunique()"
   ]
  },
  {
   "cell_type": "code",
   "execution_count": 23,
   "id": "139a7481",
   "metadata": {},
   "outputs": [],
   "source": [
    "telefonos=SCC['TELEFONO_GESTION'].unique()"
   ]
  },
  {
   "cell_type": "code",
   "execution_count": 58,
   "id": "3edc07ed",
   "metadata": {},
   "outputs": [
    {
     "data": {
      "text/plain": [
       "982265429"
      ]
     },
     "execution_count": 58,
     "metadata": {},
     "output_type": "execute_result"
    }
   ],
   "source": [
    "telefonos[2]"
   ]
  },
  {
   "cell_type": "code",
   "execution_count": 59,
   "id": "510a22b4",
   "metadata": {},
   "outputs": [],
   "source": [
    "df_temp=SCC[SCC['TELEFONO_GESTION']==982265429]"
   ]
  },
  {
   "cell_type": "code",
   "execution_count": 60,
   "id": "f2b59553",
   "metadata": {},
   "outputs": [
    {
     "data": {
      "text/html": [
       "<div>\n",
       "<style scoped>\n",
       "    .dataframe tbody tr th:only-of-type {\n",
       "        vertical-align: middle;\n",
       "    }\n",
       "\n",
       "    .dataframe tbody tr th {\n",
       "        vertical-align: top;\n",
       "    }\n",
       "\n",
       "    .dataframe thead th {\n",
       "        text-align: right;\n",
       "    }\n",
       "</style>\n",
       "<table border=\"1\" class=\"dataframe\">\n",
       "  <thead>\n",
       "    <tr style=\"text-align: right;\">\n",
       "      <th></th>\n",
       "      <th>FECHA_GESTION</th>\n",
       "      <th>HORA_GESTION</th>\n",
       "      <th>DURACION</th>\n",
       "      <th>DNI_AGENTE</th>\n",
       "      <th>DESCRIPCION_AGENTE</th>\n",
       "      <th>DESCRIPCION_GRUPO_TIPIFICACION</th>\n",
       "      <th>DESCRIPCION_TIPIFICACION</th>\n",
       "      <th>OBSERVACIONES</th>\n",
       "      <th>CODIGO_GESTION</th>\n",
       "      <th>CODIGO_AGENTE</th>\n",
       "      <th>...</th>\n",
       "      <th>VENTA_ANI</th>\n",
       "      <th>VENTA_CELULAR</th>\n",
       "      <th>DNI_CONTRATANTE</th>\n",
       "      <th>NOMBRE_CONTRATANTE</th>\n",
       "      <th>INTEGRACION</th>\n",
       "      <th>UTM_CAMPAIGN</th>\n",
       "      <th>UTM_CONTENT</th>\n",
       "      <th>UTM_MEDIUM</th>\n",
       "      <th>UTM_SOURCE</th>\n",
       "      <th>PRIORIDAD</th>\n",
       "    </tr>\n",
       "  </thead>\n",
       "  <tbody>\n",
       "    <tr>\n",
       "      <th>3</th>\n",
       "      <td>28/02/2023</td>\n",
       "      <td>16:13:52</td>\n",
       "      <td>0</td>\n",
       "      <td>76878427</td>\n",
       "      <td>HANNI BETTY  NANCHI MAYAK</td>\n",
       "      <td>NO CONTACTO</td>\n",
       "      <td>TIMBRE SIN CONTESTAR</td>\n",
       "      <td>NaN</td>\n",
       "      <td>70859311</td>\n",
       "      <td>10192</td>\n",
       "      <td>...</td>\n",
       "      <td>NaN</td>\n",
       "      <td>NaN</td>\n",
       "      <td>NaN</td>\n",
       "      <td>NaN</td>\n",
       "      <td>NaN</td>\n",
       "      <td>NaN</td>\n",
       "      <td>NaN</td>\n",
       "      <td>NaN</td>\n",
       "      <td>NaN</td>\n",
       "      <td>1</td>\n",
       "    </tr>\n",
       "  </tbody>\n",
       "</table>\n",
       "<p>1 rows × 28 columns</p>\n",
       "</div>"
      ],
      "text/plain": [
       "  FECHA_GESTION HORA_GESTION  DURACION  DNI_AGENTE  \\\n",
       "3    28/02/2023     16:13:52         0    76878427   \n",
       "\n",
       "           DESCRIPCION_AGENTE DESCRIPCION_GRUPO_TIPIFICACION  \\\n",
       "3  HANNI BETTY  NANCHI MAYAK                     NO CONTACTO   \n",
       "\n",
       "  DESCRIPCION_TIPIFICACION OBSERVACIONES  CODIGO_GESTION  CODIGO_AGENTE  ...  \\\n",
       "3     TIMBRE SIN CONTESTAR           NaN        70859311          10192  ...   \n",
       "\n",
       "   VENTA_ANI  VENTA_CELULAR DNI_CONTRATANTE NOMBRE_CONTRATANTE INTEGRACION  \\\n",
       "3        NaN            NaN             NaN                NaN         NaN   \n",
       "\n",
       "  UTM_CAMPAIGN UTM_CONTENT UTM_MEDIUM  UTM_SOURCE  PRIORIDAD  \n",
       "3          NaN         NaN        NaN         NaN          1  \n",
       "\n",
       "[1 rows x 28 columns]"
      ]
     },
     "execution_count": 60,
     "metadata": {},
     "output_type": "execute_result"
    }
   ],
   "source": [
    "df_temp"
   ]
  },
  {
   "cell_type": "code",
   "execution_count": 61,
   "id": "6c38bec0",
   "metadata": {},
   "outputs": [],
   "source": [
    "df_temp_CV=df_temp[df_temp['DESCRIPCION_GRUPO_TIPIFICACION']=='CONTACTO VÁLIDO']"
   ]
  },
  {
   "cell_type": "code",
   "execution_count": 62,
   "id": "3aa24544",
   "metadata": {},
   "outputs": [
    {
     "data": {
      "text/html": [
       "<div>\n",
       "<style scoped>\n",
       "    .dataframe tbody tr th:only-of-type {\n",
       "        vertical-align: middle;\n",
       "    }\n",
       "\n",
       "    .dataframe tbody tr th {\n",
       "        vertical-align: top;\n",
       "    }\n",
       "\n",
       "    .dataframe thead th {\n",
       "        text-align: right;\n",
       "    }\n",
       "</style>\n",
       "<table border=\"1\" class=\"dataframe\">\n",
       "  <thead>\n",
       "    <tr style=\"text-align: right;\">\n",
       "      <th></th>\n",
       "      <th>FECHA_GESTION</th>\n",
       "      <th>HORA_GESTION</th>\n",
       "      <th>DURACION</th>\n",
       "      <th>DNI_AGENTE</th>\n",
       "      <th>DESCRIPCION_AGENTE</th>\n",
       "      <th>DESCRIPCION_GRUPO_TIPIFICACION</th>\n",
       "      <th>DESCRIPCION_TIPIFICACION</th>\n",
       "      <th>OBSERVACIONES</th>\n",
       "      <th>CODIGO_GESTION</th>\n",
       "      <th>CODIGO_AGENTE</th>\n",
       "      <th>...</th>\n",
       "      <th>VENTA_ANI</th>\n",
       "      <th>VENTA_CELULAR</th>\n",
       "      <th>DNI_CONTRATANTE</th>\n",
       "      <th>NOMBRE_CONTRATANTE</th>\n",
       "      <th>INTEGRACION</th>\n",
       "      <th>UTM_CAMPAIGN</th>\n",
       "      <th>UTM_CONTENT</th>\n",
       "      <th>UTM_MEDIUM</th>\n",
       "      <th>UTM_SOURCE</th>\n",
       "      <th>PRIORIDAD</th>\n",
       "    </tr>\n",
       "  </thead>\n",
       "  <tbody>\n",
       "  </tbody>\n",
       "</table>\n",
       "<p>0 rows × 28 columns</p>\n",
       "</div>"
      ],
      "text/plain": [
       "Empty DataFrame\n",
       "Columns: [FECHA_GESTION, HORA_GESTION, DURACION, DNI_AGENTE, DESCRIPCION_AGENTE, DESCRIPCION_GRUPO_TIPIFICACION, DESCRIPCION_TIPIFICACION, OBSERVACIONES, CODIGO_GESTION, CODIGO_AGENTE, TELEFONO_GESTION, AFILIADOS, FRECUENCIA_PAGO, PROGRAMA_AFILIADO, TIPO_VENTA, SERVICIO, BBDD, TYPE_LIST_DATE, VENTA_ANI, VENTA_CELULAR, DNI_CONTRATANTE, NOMBRE_CONTRATANTE, INTEGRACION, UTM_CAMPAIGN, UTM_CONTENT, UTM_MEDIUM, UTM_SOURCE, PRIORIDAD]\n",
       "Index: []\n",
       "\n",
       "[0 rows x 28 columns]"
      ]
     },
     "execution_count": 62,
     "metadata": {},
     "output_type": "execute_result"
    }
   ],
   "source": [
    "df_temp_CV"
   ]
  },
  {
   "cell_type": "code",
   "execution_count": 64,
   "id": "d73fe9aa",
   "metadata": {},
   "outputs": [
    {
     "data": {
      "text/html": [
       "<div>\n",
       "<style scoped>\n",
       "    .dataframe tbody tr th:only-of-type {\n",
       "        vertical-align: middle;\n",
       "    }\n",
       "\n",
       "    .dataframe tbody tr th {\n",
       "        vertical-align: top;\n",
       "    }\n",
       "\n",
       "    .dataframe thead th {\n",
       "        text-align: right;\n",
       "    }\n",
       "</style>\n",
       "<table border=\"1\" class=\"dataframe\">\n",
       "  <thead>\n",
       "    <tr style=\"text-align: right;\">\n",
       "      <th></th>\n",
       "      <th>FECHA_GESTION</th>\n",
       "      <th>HORA_GESTION</th>\n",
       "      <th>DURACION</th>\n",
       "      <th>DNI_AGENTE</th>\n",
       "      <th>DESCRIPCION_AGENTE</th>\n",
       "      <th>DESCRIPCION_GRUPO_TIPIFICACION</th>\n",
       "      <th>DESCRIPCION_TIPIFICACION</th>\n",
       "      <th>OBSERVACIONES</th>\n",
       "      <th>CODIGO_GESTION</th>\n",
       "      <th>CODIGO_AGENTE</th>\n",
       "      <th>...</th>\n",
       "      <th>VENTA_ANI</th>\n",
       "      <th>VENTA_CELULAR</th>\n",
       "      <th>DNI_CONTRATANTE</th>\n",
       "      <th>NOMBRE_CONTRATANTE</th>\n",
       "      <th>INTEGRACION</th>\n",
       "      <th>UTM_CAMPAIGN</th>\n",
       "      <th>UTM_CONTENT</th>\n",
       "      <th>UTM_MEDIUM</th>\n",
       "      <th>UTM_SOURCE</th>\n",
       "      <th>PRIORIDAD</th>\n",
       "    </tr>\n",
       "  </thead>\n",
       "  <tbody>\n",
       "    <tr>\n",
       "      <th>3</th>\n",
       "      <td>28/02/2023</td>\n",
       "      <td>16:13:52</td>\n",
       "      <td>0</td>\n",
       "      <td>76878427</td>\n",
       "      <td>HANNI BETTY  NANCHI MAYAK</td>\n",
       "      <td>NO CONTACTO</td>\n",
       "      <td>TIMBRE SIN CONTESTAR</td>\n",
       "      <td>NaN</td>\n",
       "      <td>70859311</td>\n",
       "      <td>10192</td>\n",
       "      <td>...</td>\n",
       "      <td>NaN</td>\n",
       "      <td>NaN</td>\n",
       "      <td>NaN</td>\n",
       "      <td>NaN</td>\n",
       "      <td>NaN</td>\n",
       "      <td>NaN</td>\n",
       "      <td>NaN</td>\n",
       "      <td>NaN</td>\n",
       "      <td>NaN</td>\n",
       "      <td>1</td>\n",
       "    </tr>\n",
       "  </tbody>\n",
       "</table>\n",
       "<p>1 rows × 28 columns</p>\n",
       "</div>"
      ],
      "text/plain": [
       "  FECHA_GESTION HORA_GESTION  DURACION  DNI_AGENTE  \\\n",
       "3    28/02/2023     16:13:52         0    76878427   \n",
       "\n",
       "           DESCRIPCION_AGENTE DESCRIPCION_GRUPO_TIPIFICACION  \\\n",
       "3  HANNI BETTY  NANCHI MAYAK                     NO CONTACTO   \n",
       "\n",
       "  DESCRIPCION_TIPIFICACION OBSERVACIONES  CODIGO_GESTION  CODIGO_AGENTE  ...  \\\n",
       "3     TIMBRE SIN CONTESTAR           NaN        70859311          10192  ...   \n",
       "\n",
       "   VENTA_ANI  VENTA_CELULAR DNI_CONTRATANTE NOMBRE_CONTRATANTE INTEGRACION  \\\n",
       "3        NaN            NaN             NaN                NaN         NaN   \n",
       "\n",
       "  UTM_CAMPAIGN UTM_CONTENT UTM_MEDIUM  UTM_SOURCE  PRIORIDAD  \n",
       "3          NaN         NaN        NaN         NaN          1  \n",
       "\n",
       "[1 rows x 28 columns]"
      ]
     },
     "execution_count": 64,
     "metadata": {},
     "output_type": "execute_result"
    }
   ],
   "source": [
    "df_temp"
   ]
  },
  {
   "cell_type": "code",
   "execution_count": 65,
   "id": "528865cc",
   "metadata": {},
   "outputs": [
    {
     "data": {
      "text/plain": [
       "True"
      ]
     },
     "execution_count": 65,
     "metadata": {},
     "output_type": "execute_result"
    }
   ],
   "source": [
    "df_temp_CV.empty"
   ]
  },
  {
   "cell_type": "code",
   "execution_count": null,
   "id": "fdff923f",
   "metadata": {},
   "outputs": [],
   "source": [
    "for cel in telefonos: \n",
    "    df_temp=SCC[SCC['TELEFONO_GESTION']==i]\n",
    "    df_temp_CV=df_temp[df_temp['DESCRIPCION_GRUPO_TIPIFICACION']=='CONTACTO VÁLIDO']\n",
    "    if df_temp_CV.empty==True:\n",
    "        df_concatencar=df_temp\n",
    "    else:\n",
    "        df_concatencar=df_temp_CV"
   ]
  }
 ],
 "metadata": {
  "kernelspec": {
   "display_name": "Python 3 (ipykernel)",
   "language": "python",
   "name": "python3"
  },
  "language_info": {
   "codemirror_mode": {
    "name": "ipython",
    "version": 3
   },
   "file_extension": ".py",
   "mimetype": "text/x-python",
   "name": "python",
   "nbconvert_exporter": "python",
   "pygments_lexer": "ipython3",
   "version": "3.10.9"
  }
 },
 "nbformat": 4,
 "nbformat_minor": 5
}
