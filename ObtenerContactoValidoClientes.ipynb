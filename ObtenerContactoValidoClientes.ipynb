{
 "cells": [
  {
   "cell_type": "code",
   "execution_count": 136,
   "id": "7fabfed9",
   "metadata": {},
   "outputs": [],
   "source": [
    "import pandas as pd \n",
    "import numpy as np"
   ]
  },
  {
   "cell_type": "code",
   "execution_count": 137,
   "id": "89cfbb65",
   "metadata": {},
   "outputs": [],
   "source": [
    "SCC=pd.read_excel(\"Gestión de Leads_SCC.xlsx\")"
   ]
  },
  {
   "cell_type": "code",
<<<<<<< HEAD
   "execution_count": 138,
   "id": "e37cc7ea",
=======
   "execution_count": 91,
   "id": "bced2513",
>>>>>>> main
   "metadata": {},
   "outputs": [
    {
     "data": {
      "text/plain": [
       "(62831, 28)"
      ]
     },
<<<<<<< HEAD
     "execution_count": 138,
=======
     "execution_count": 91,
>>>>>>> main
     "metadata": {},
     "output_type": "execute_result"
    }
   ],
   "source": [
    "SCC.shape"
   ]
  },
  {
   "cell_type": "code",
<<<<<<< HEAD
   "execution_count": 139,
   "id": "805611f0",
=======
   "execution_count": 3,
   "id": "67c923c8",
>>>>>>> main
   "metadata": {},
   "outputs": [
    {
     "name": "stdout",
     "output_type": "stream",
     "text": [
      "<class 'pandas.core.frame.DataFrame'>\n",
      "RangeIndex: 62831 entries, 0 to 62830\n",
      "Data columns (total 28 columns):\n",
      " #   Column                          Non-Null Count  Dtype         \n",
      "---  ------                          --------------  -----         \n",
      " 0   FECHA_GESTION                   62831 non-null  object        \n",
      " 1   HORA_GESTION                    62831 non-null  object        \n",
      " 2   DURACION                        62831 non-null  int64         \n",
      " 3   DNI_AGENTE                      62831 non-null  int64         \n",
      " 4   DESCRIPCION_AGENTE              62831 non-null  object        \n",
      " 5   DESCRIPCION_GRUPO_TIPIFICACION  62831 non-null  object        \n",
      " 6   DESCRIPCION_TIPIFICACION        62784 non-null  object        \n",
      " 7   OBSERVACIONES                   4365 non-null   object        \n",
      " 8   CODIGO_GESTION                  62831 non-null  int64         \n",
      " 9   CODIGO_AGENTE                   62831 non-null  int64         \n",
      " 10  TELEFONO_GESTION                62831 non-null  int64         \n",
      " 11  AFILIADOS                       815 non-null    float64       \n",
      " 12  FRECUENCIA_PAGO                 815 non-null    object        \n",
      " 13  PROGRAMA_AFILIADO               815 non-null    object        \n",
      " 14  TIPO_VENTA                      815 non-null    object        \n",
      " 15  SERVICIO                        815 non-null    object        \n",
      " 16  BBDD                            62831 non-null  object        \n",
      " 17  TYPE_LIST_DATE                  62831 non-null  datetime64[ns]\n",
      " 18  VENTA_ANI                       815 non-null    float64       \n",
      " 19  VENTA_CELULAR                   815 non-null    float64       \n",
      " 20  DNI_CONTRATANTE                 815 non-null    float64       \n",
      " 21  NOMBRE_CONTRATANTE              812 non-null    object        \n",
      " 22  INTEGRACION                     45823 non-null  object        \n",
      " 23  UTM_CAMPAIGN                    39567 non-null  object        \n",
      " 24  UTM_CONTENT                     36252 non-null  object        \n",
      " 25  UTM_MEDIUM                      36657 non-null  object        \n",
      " 26  UTM_SOURCE                      38121 non-null  object        \n",
      " 27  PRIORIDAD                       62831 non-null  int64         \n",
      "dtypes: datetime64[ns](1), float64(4), int64(6), object(17)\n",
      "memory usage: 13.4+ MB\n"
     ]
    }
   ],
   "source": [
    "SCC.info()"
   ]
  },
  {
   "cell_type": "code",
<<<<<<< HEAD
   "execution_count": 140,
   "id": "0d7566bf",
=======
   "execution_count": 5,
   "id": "c564abde",
>>>>>>> main
   "metadata": {},
   "outputs": [
    {
     "data": {
      "text/plain": [
       "array(['16/02/2023', '02/02/2023', '28/02/2023', '09/02/2023',\n",
       "       '11/02/2023', '15/02/2023', '10/02/2023', '23/02/2023',\n",
       "       '24/02/2023', '25/02/2023', '27/02/2023', '14/02/2023',\n",
       "       '22/02/2023', '08/02/2023', '06/02/2023', '18/02/2023',\n",
       "       '17/02/2023', '21/02/2023', '13/02/2023', '03/02/2023',\n",
       "       '20/02/2023', '07/02/2023', '04/02/2023', '01/02/2023'],\n",
       "      dtype=object)"
      ]
     },
     "execution_count": 140,
     "metadata": {},
     "output_type": "execute_result"
    }
   ],
   "source": [
    "SCC['FECHA_GESTION'].unique()"
   ]
  },
  {
   "cell_type": "code",
<<<<<<< HEAD
   "execution_count": 141,
   "id": "06db30e3",
=======
   "execution_count": 8,
   "id": "22efd14a",
>>>>>>> main
   "metadata": {},
   "outputs": [
    {
     "data": {
      "text/html": [
       "<div>\n",
       "<style scoped>\n",
       "    .dataframe tbody tr th:only-of-type {\n",
       "        vertical-align: middle;\n",
       "    }\n",
       "\n",
       "    .dataframe tbody tr th {\n",
       "        vertical-align: top;\n",
       "    }\n",
       "\n",
       "    .dataframe thead th {\n",
       "        text-align: right;\n",
       "    }\n",
       "</style>\n",
       "<table border=\"1\" class=\"dataframe\">\n",
       "  <thead>\n",
       "    <tr style=\"text-align: right;\">\n",
       "      <th></th>\n",
       "      <th>FECHA_GESTION</th>\n",
       "      <th>HORA_GESTION</th>\n",
       "      <th>DURACION</th>\n",
       "      <th>DNI_AGENTE</th>\n",
       "      <th>DESCRIPCION_AGENTE</th>\n",
       "      <th>DESCRIPCION_GRUPO_TIPIFICACION</th>\n",
       "      <th>DESCRIPCION_TIPIFICACION</th>\n",
       "      <th>OBSERVACIONES</th>\n",
       "      <th>CODIGO_GESTION</th>\n",
       "      <th>CODIGO_AGENTE</th>\n",
       "      <th>...</th>\n",
       "      <th>VENTA_ANI</th>\n",
       "      <th>VENTA_CELULAR</th>\n",
       "      <th>DNI_CONTRATANTE</th>\n",
       "      <th>NOMBRE_CONTRATANTE</th>\n",
       "      <th>INTEGRACION</th>\n",
       "      <th>UTM_CAMPAIGN</th>\n",
       "      <th>UTM_CONTENT</th>\n",
       "      <th>UTM_MEDIUM</th>\n",
       "      <th>UTM_SOURCE</th>\n",
       "      <th>PRIORIDAD</th>\n",
       "    </tr>\n",
       "  </thead>\n",
       "  <tbody>\n",
       "    <tr>\n",
       "      <th>0</th>\n",
       "      <td>16/02/2023</td>\n",
       "      <td>15:01:11</td>\n",
       "      <td>0</td>\n",
       "      <td>76134563</td>\n",
       "      <td>MARIA  TERESA NUÑEZ HERRERA</td>\n",
       "      <td>CONTACTO VÁLIDO</td>\n",
       "      <td>NO DESEA / CUENTA OTRO SEGURO</td>\n",
       "      <td>NaN</td>\n",
       "      <td>70641054</td>\n",
       "      <td>10206</td>\n",
       "      <td>...</td>\n",
       "      <td>NaN</td>\n",
       "      <td>NaN</td>\n",
       "      <td>NaN</td>\n",
       "      <td>NaN</td>\n",
       "      <td>NaN</td>\n",
       "      <td>NaN</td>\n",
       "      <td>NaN</td>\n",
       "      <td>NaN</td>\n",
       "      <td>NaN</td>\n",
       "      <td>1</td>\n",
       "    </tr>\n",
       "    <tr>\n",
       "      <th>1</th>\n",
       "      <td>02/02/2023</td>\n",
       "      <td>12:42:24</td>\n",
       "      <td>103</td>\n",
       "      <td>44881000</td>\n",
       "      <td>ERWIN MACEDO MEZA</td>\n",
       "      <td>CONTACTO VÁLIDO</td>\n",
       "      <td>VENTA SAP</td>\n",
       "      <td>FICHA DE PRUEBA</td>\n",
       "      <td>70413086</td>\n",
       "      <td>7555</td>\n",
       "      <td>...</td>\n",
       "      <td>NaN</td>\n",
       "      <td>NaN</td>\n",
       "      <td>NaN</td>\n",
       "      <td>NaN</td>\n",
       "      <td>NaN</td>\n",
       "      <td>NaN</td>\n",
       "      <td>NaN</td>\n",
       "      <td>NaN</td>\n",
       "      <td>NaN</td>\n",
       "      <td>1</td>\n",
       "    </tr>\n",
       "    <tr>\n",
       "      <th>2</th>\n",
       "      <td>02/02/2023</td>\n",
       "      <td>12:48:05</td>\n",
       "      <td>23</td>\n",
       "      <td>44881000</td>\n",
       "      <td>ERWIN MACEDO MEZA</td>\n",
       "      <td>CONTACTO VÁLIDO</td>\n",
       "      <td>VENTA SAP</td>\n",
       "      <td>FICHA DE PRUEBA</td>\n",
       "      <td>70413274</td>\n",
       "      <td>7555</td>\n",
       "      <td>...</td>\n",
       "      <td>NaN</td>\n",
       "      <td>NaN</td>\n",
       "      <td>NaN</td>\n",
       "      <td>NaN</td>\n",
       "      <td>NaN</td>\n",
       "      <td>NaN</td>\n",
       "      <td>NaN</td>\n",
       "      <td>NaN</td>\n",
       "      <td>NaN</td>\n",
       "      <td>1</td>\n",
       "    </tr>\n",
       "    <tr>\n",
       "      <th>3</th>\n",
       "      <td>28/02/2023</td>\n",
       "      <td>16:13:52</td>\n",
       "      <td>0</td>\n",
       "      <td>76878427</td>\n",
       "      <td>HANNI BETTY  NANCHI MAYAK</td>\n",
       "      <td>NO CONTACTO</td>\n",
       "      <td>TIMBRE SIN CONTESTAR</td>\n",
       "      <td>NaN</td>\n",
       "      <td>70859311</td>\n",
       "      <td>10192</td>\n",
       "      <td>...</td>\n",
       "      <td>NaN</td>\n",
       "      <td>NaN</td>\n",
       "      <td>NaN</td>\n",
       "      <td>NaN</td>\n",
       "      <td>NaN</td>\n",
       "      <td>NaN</td>\n",
       "      <td>NaN</td>\n",
       "      <td>NaN</td>\n",
       "      <td>NaN</td>\n",
       "      <td>1</td>\n",
       "    </tr>\n",
       "    <tr>\n",
       "      <th>4</th>\n",
       "      <td>09/02/2023</td>\n",
       "      <td>12:45:11</td>\n",
       "      <td>0</td>\n",
       "      <td>72657892</td>\n",
       "      <td>YOMAIRA CAMILA CAMA ALBINAGORTA</td>\n",
       "      <td>NO CONTACTO</td>\n",
       "      <td>TIMBRE SIN CONTESTAR</td>\n",
       "      <td>NaN</td>\n",
       "      <td>70521577</td>\n",
       "      <td>10172</td>\n",
       "      <td>...</td>\n",
       "      <td>NaN</td>\n",
       "      <td>NaN</td>\n",
       "      <td>NaN</td>\n",
       "      <td>NaN</td>\n",
       "      <td>NaN</td>\n",
       "      <td>NaN</td>\n",
       "      <td>NaN</td>\n",
       "      <td>NaN</td>\n",
       "      <td>NaN</td>\n",
       "      <td>1</td>\n",
       "    </tr>\n",
       "  </tbody>\n",
       "</table>\n",
       "<p>5 rows × 28 columns</p>\n",
       "</div>"
      ],
      "text/plain": [
       "  FECHA_GESTION HORA_GESTION  DURACION  DNI_AGENTE  \\\n",
       "0    16/02/2023     15:01:11         0    76134563   \n",
       "1    02/02/2023     12:42:24       103    44881000   \n",
       "2    02/02/2023     12:48:05        23    44881000   \n",
       "3    28/02/2023     16:13:52         0    76878427   \n",
       "4    09/02/2023     12:45:11         0    72657892   \n",
       "\n",
       "                DESCRIPCION_AGENTE DESCRIPCION_GRUPO_TIPIFICACION  \\\n",
       "0     MARIA  TERESA NUÑEZ HERRERA                 CONTACTO VÁLIDO   \n",
       "1                ERWIN MACEDO MEZA                CONTACTO VÁLIDO   \n",
       "2                ERWIN MACEDO MEZA                CONTACTO VÁLIDO   \n",
       "3       HANNI BETTY  NANCHI MAYAK                     NO CONTACTO   \n",
       "4  YOMAIRA CAMILA CAMA ALBINAGORTA                    NO CONTACTO   \n",
       "\n",
       "        DESCRIPCION_TIPIFICACION    OBSERVACIONES  CODIGO_GESTION  \\\n",
       "0  NO DESEA / CUENTA OTRO SEGURO              NaN        70641054   \n",
       "1                      VENTA SAP  FICHA DE PRUEBA        70413086   \n",
       "2                      VENTA SAP  FICHA DE PRUEBA        70413274   \n",
       "3           TIMBRE SIN CONTESTAR              NaN        70859311   \n",
       "4           TIMBRE SIN CONTESTAR              NaN        70521577   \n",
       "\n",
       "   CODIGO_AGENTE  ...  VENTA_ANI  VENTA_CELULAR DNI_CONTRATANTE  \\\n",
       "0          10206  ...        NaN            NaN             NaN   \n",
       "1           7555  ...        NaN            NaN             NaN   \n",
       "2           7555  ...        NaN            NaN             NaN   \n",
       "3          10192  ...        NaN            NaN             NaN   \n",
       "4          10172  ...        NaN            NaN             NaN   \n",
       "\n",
       "  NOMBRE_CONTRATANTE INTEGRACION UTM_CAMPAIGN UTM_CONTENT UTM_MEDIUM  \\\n",
       "0                NaN         NaN          NaN         NaN        NaN   \n",
       "1                NaN         NaN          NaN         NaN        NaN   \n",
       "2                NaN         NaN          NaN         NaN        NaN   \n",
       "3                NaN         NaN          NaN         NaN        NaN   \n",
       "4                NaN         NaN          NaN         NaN        NaN   \n",
       "\n",
       "   UTM_SOURCE  PRIORIDAD  \n",
       "0         NaN          1  \n",
       "1         NaN          1  \n",
       "2         NaN          1  \n",
       "3         NaN          1  \n",
       "4         NaN          1  \n",
       "\n",
       "[5 rows x 28 columns]"
      ]
     },
     "execution_count": 141,
     "metadata": {},
     "output_type": "execute_result"
    }
   ],
   "source": [
    "SCC.head()"
   ]
  },
  {
   "cell_type": "code",
<<<<<<< HEAD
   "execution_count": 142,
   "id": "6c6a3646",
=======
   "execution_count": 10,
   "id": "68b26357",
>>>>>>> main
   "metadata": {},
   "outputs": [
    {
     "data": {
      "text/plain": [
       "Index(['FECHA_GESTION', 'HORA_GESTION', 'DURACION', 'DNI_AGENTE',\n",
       "       'DESCRIPCION_AGENTE', 'DESCRIPCION_GRUPO_TIPIFICACION',\n",
       "       'DESCRIPCION_TIPIFICACION', 'OBSERVACIONES', 'CODIGO_GESTION',\n",
       "       'CODIGO_AGENTE', 'TELEFONO_GESTION', 'AFILIADOS', 'FRECUENCIA_PAGO',\n",
       "       'PROGRAMA_AFILIADO', 'TIPO_VENTA', 'SERVICIO', 'BBDD', 'TYPE_LIST_DATE',\n",
       "       'VENTA_ANI', 'VENTA_CELULAR', 'DNI_CONTRATANTE', 'NOMBRE_CONTRATANTE',\n",
       "       'INTEGRACION', 'UTM_CAMPAIGN', 'UTM_CONTENT', 'UTM_MEDIUM',\n",
       "       'UTM_SOURCE', 'PRIORIDAD'],\n",
       "      dtype='object')"
      ]
     },
     "execution_count": 142,
     "metadata": {},
     "output_type": "execute_result"
    }
   ],
   "source": [
    "SCC.columns"
   ]
  },
  {
   "cell_type": "code",
<<<<<<< HEAD
   "execution_count": 143,
   "id": "ca348ac2",
=======
   "execution_count": 12,
   "id": "393461cb",
>>>>>>> main
   "metadata": {},
   "outputs": [
    {
     "data": {
      "text/plain": [
       "array(['CONTACTO VÁLIDO', 'NO CONTACTO', 'CONTACTO NO VÁLIDO'],\n",
       "      dtype=object)"
      ]
     },
     "execution_count": 143,
     "metadata": {},
     "output_type": "execute_result"
    }
   ],
   "source": [
    "SCC.DESCRIPCION_GRUPO_TIPIFICACION.unique()"
   ]
  },
  {
   "cell_type": "code",
<<<<<<< HEAD
   "execution_count": 144,
   "id": "e6ec8c63",
=======
   "execution_count": 16,
   "id": "6630014f",
>>>>>>> main
   "metadata": {},
   "outputs": [
    {
     "data": {
      "text/plain": [
       "DESCRIPCION_GRUPO_TIPIFICACION\n",
       "CONTACTO NO VÁLIDO    16162\n",
       "CONTACTO VÁLIDO       15405\n",
       "NO CONTACTO           31264\n",
       "Name: TELEFONO_GESTION, dtype: int64"
      ]
     },
     "execution_count": 144,
     "metadata": {},
     "output_type": "execute_result"
    }
   ],
   "source": [
    "SCC.groupby('DESCRIPCION_GRUPO_TIPIFICACION')['TELEFONO_GESTION'].count()"
   ]
  },
  {
   "cell_type": "code",
<<<<<<< HEAD
   "execution_count": 145,
   "id": "3058e7ea",
=======
   "execution_count": 18,
   "id": "0bad3c34",
>>>>>>> main
   "metadata": {},
   "outputs": [
    {
     "data": {
      "text/plain": [
       "DESCRIPCION_GRUPO_TIPIFICACION\n",
       "CONTACTO NO VÁLIDO    13371\n",
       "CONTACTO VÁLIDO        9651\n",
       "NO CONTACTO           12856\n",
       "Name: TELEFONO_GESTION, dtype: int64"
      ]
     },
     "execution_count": 145,
     "metadata": {},
     "output_type": "execute_result"
    }
   ],
   "source": [
    "SCC.groupby('DESCRIPCION_GRUPO_TIPIFICACION')['TELEFONO_GESTION'].nunique()"
   ]
  },
  {
   "cell_type": "code",
<<<<<<< HEAD
   "execution_count": 146,
   "id": "0f034568",
=======
   "execution_count": 23,
   "id": "b5235e05",
>>>>>>> main
   "metadata": {},
   "outputs": [],
   "source": [
    "telefonos=SCC['TELEFONO_GESTION'].unique()"
   ]
  },
  {
   "cell_type": "code",
<<<<<<< HEAD
   "execution_count": 147,
   "id": "0aeae089",
=======
   "execution_count": 73,
   "id": "8990590c",
>>>>>>> main
   "metadata": {},
   "outputs": [
    {
     "data": {
      "text/plain": [
       "998352531"
      ]
     },
<<<<<<< HEAD
     "execution_count": 147,
=======
     "execution_count": 73,
>>>>>>> main
     "metadata": {},
     "output_type": "execute_result"
    }
   ],
   "source": [
    "telefonos[4]"
   ]
  },
  {
   "cell_type": "code",
<<<<<<< HEAD
   "execution_count": 148,
   "id": "bca91ff6",
=======
   "execution_count": 78,
   "id": "a18f35ab",
>>>>>>> main
   "metadata": {},
   "outputs": [],
   "source": [
    "df_temp=SCC[SCC['TELEFONO_GESTION']==998352531]"
   ]
  },
  {
   "cell_type": "code",
<<<<<<< HEAD
   "execution_count": 149,
   "id": "407f7ecf",
=======
   "execution_count": 79,
   "id": "cdc1c974",
>>>>>>> main
   "metadata": {},
   "outputs": [
    {
     "data": {
      "text/html": [
       "<div>\n",
       "<style scoped>\n",
       "    .dataframe tbody tr th:only-of-type {\n",
       "        vertical-align: middle;\n",
       "    }\n",
       "\n",
       "    .dataframe tbody tr th {\n",
       "        vertical-align: top;\n",
       "    }\n",
       "\n",
       "    .dataframe thead th {\n",
       "        text-align: right;\n",
       "    }\n",
       "</style>\n",
       "<table border=\"1\" class=\"dataframe\">\n",
       "  <thead>\n",
       "    <tr style=\"text-align: right;\">\n",
       "      <th></th>\n",
       "      <th>FECHA_GESTION</th>\n",
       "      <th>HORA_GESTION</th>\n",
       "      <th>DURACION</th>\n",
       "      <th>DNI_AGENTE</th>\n",
       "      <th>DESCRIPCION_AGENTE</th>\n",
       "      <th>DESCRIPCION_GRUPO_TIPIFICACION</th>\n",
       "      <th>DESCRIPCION_TIPIFICACION</th>\n",
       "      <th>OBSERVACIONES</th>\n",
       "      <th>CODIGO_GESTION</th>\n",
       "      <th>CODIGO_AGENTE</th>\n",
       "      <th>...</th>\n",
       "      <th>VENTA_ANI</th>\n",
       "      <th>VENTA_CELULAR</th>\n",
       "      <th>DNI_CONTRATANTE</th>\n",
       "      <th>NOMBRE_CONTRATANTE</th>\n",
       "      <th>INTEGRACION</th>\n",
       "      <th>UTM_CAMPAIGN</th>\n",
       "      <th>UTM_CONTENT</th>\n",
       "      <th>UTM_MEDIUM</th>\n",
       "      <th>UTM_SOURCE</th>\n",
       "      <th>PRIORIDAD</th>\n",
       "    </tr>\n",
       "  </thead>\n",
       "  <tbody>\n",
       "    <tr>\n",
       "      <th>5</th>\n",
       "      <td>11/02/2023</td>\n",
       "      <td>16:08:14</td>\n",
       "      <td>1499</td>\n",
       "      <td>72657892</td>\n",
       "      <td>YOMAIRA CAMILA CAMA ALBINAGORTA</td>\n",
       "      <td>CONTACTO VÁLIDO</td>\n",
       "      <td>PENDIENTE RESPUESTA</td>\n",
       "      <td>NaN</td>\n",
       "      <td>70565056</td>\n",
       "      <td>10172</td>\n",
       "      <td>...</td>\n",
       "      <td>NaN</td>\n",
       "      <td>NaN</td>\n",
       "      <td>NaN</td>\n",
       "      <td>NaN</td>\n",
       "      <td>NaN</td>\n",
       "      <td>NaN</td>\n",
       "      <td>NaN</td>\n",
       "      <td>NaN</td>\n",
       "      <td>NaN</td>\n",
       "      <td>1</td>\n",
       "    </tr>\n",
       "    <tr>\n",
       "      <th>6</th>\n",
       "      <td>11/02/2023</td>\n",
       "      <td>17:15:44</td>\n",
       "      <td>1</td>\n",
       "      <td>72657892</td>\n",
       "      <td>YOMAIRA CAMILA CAMA ALBINAGORTA</td>\n",
       "      <td>CONTACTO VÁLIDO</td>\n",
       "      <td>VENTA SAP</td>\n",
       "      <td>1 ONCOVITAL - OK</td>\n",
       "      <td>70565504</td>\n",
       "      <td>10172</td>\n",
       "      <td>...</td>\n",
       "      <td>900166099.0</td>\n",
       "      <td>900166099.0</td>\n",
       "      <td>72657892.0</td>\n",
       "      <td>YOMAIRA CAMILA CAMA ALBINAGORTA</td>\n",
       "      <td>NaN</td>\n",
       "      <td>NaN</td>\n",
       "      <td>NaN</td>\n",
       "      <td>NaN</td>\n",
       "      <td>NaN</td>\n",
       "      <td>1</td>\n",
       "    </tr>\n",
       "    <tr>\n",
       "      <th>7</th>\n",
       "      <td>15/02/2023</td>\n",
       "      <td>15:32:39</td>\n",
       "      <td>47</td>\n",
       "      <td>72657892</td>\n",
       "      <td>YOMAIRA CAMILA CAMA ALBINAGORTA</td>\n",
       "      <td>NO CONTACTO</td>\n",
       "      <td>SISTEMA</td>\n",
       "      <td>NaN</td>\n",
       "      <td>70622580</td>\n",
       "      <td>10172</td>\n",
       "      <td>...</td>\n",
       "      <td>NaN</td>\n",
       "      <td>NaN</td>\n",
       "      <td>NaN</td>\n",
       "      <td>NaN</td>\n",
       "      <td>NaN</td>\n",
       "      <td>NaN</td>\n",
       "      <td>NaN</td>\n",
       "      <td>NaN</td>\n",
       "      <td>NaN</td>\n",
       "      <td>1</td>\n",
       "    </tr>\n",
       "  </tbody>\n",
       "</table>\n",
       "<p>3 rows × 28 columns</p>\n",
       "</div>"
      ],
      "text/plain": [
       "  FECHA_GESTION HORA_GESTION  DURACION  DNI_AGENTE  \\\n",
       "5    11/02/2023     16:08:14      1499    72657892   \n",
       "6    11/02/2023     17:15:44         1    72657892   \n",
       "7    15/02/2023     15:32:39        47    72657892   \n",
       "\n",
       "                DESCRIPCION_AGENTE DESCRIPCION_GRUPO_TIPIFICACION  \\\n",
       "5  YOMAIRA CAMILA CAMA ALBINAGORTA                CONTACTO VÁLIDO   \n",
       "6  YOMAIRA CAMILA CAMA ALBINAGORTA                CONTACTO VÁLIDO   \n",
       "7  YOMAIRA CAMILA CAMA ALBINAGORTA                    NO CONTACTO   \n",
       "\n",
       "  DESCRIPCION_TIPIFICACION     OBSERVACIONES  CODIGO_GESTION  CODIGO_AGENTE  \\\n",
       "5      PENDIENTE RESPUESTA               NaN        70565056          10172   \n",
       "6                VENTA SAP  1 ONCOVITAL - OK        70565504          10172   \n",
       "7                  SISTEMA               NaN        70622580          10172   \n",
       "\n",
       "   ...    VENTA_ANI  VENTA_CELULAR DNI_CONTRATANTE  \\\n",
       "5  ...          NaN            NaN             NaN   \n",
       "6  ...  900166099.0    900166099.0      72657892.0   \n",
       "7  ...          NaN            NaN             NaN   \n",
       "\n",
       "                NOMBRE_CONTRATANTE INTEGRACION UTM_CAMPAIGN UTM_CONTENT  \\\n",
       "5                              NaN         NaN          NaN         NaN   \n",
       "6  YOMAIRA CAMILA CAMA ALBINAGORTA         NaN          NaN         NaN   \n",
       "7                              NaN         NaN          NaN         NaN   \n",
       "\n",
       "  UTM_MEDIUM  UTM_SOURCE  PRIORIDAD  \n",
       "5        NaN         NaN          1  \n",
       "6        NaN         NaN          1  \n",
       "7        NaN         NaN          1  \n",
       "\n",
       "[3 rows x 28 columns]"
      ]
     },
<<<<<<< HEAD
     "execution_count": 149,
=======
     "execution_count": 79,
>>>>>>> main
     "metadata": {},
     "output_type": "execute_result"
    }
   ],
   "source": [
    "df_temp"
   ]
  },
  {
   "cell_type": "code",
<<<<<<< HEAD
   "execution_count": 150,
   "id": "4cdbdae3",
=======
   "execution_count": 80,
   "id": "ef7388d2",
>>>>>>> main
   "metadata": {},
   "outputs": [],
   "source": [
    "df_temp_CV=df_temp[df_temp['DESCRIPCION_GRUPO_TIPIFICACION']=='CONTACTO VÁLIDO']"
   ]
  },
  {
   "cell_type": "code",
<<<<<<< HEAD
   "execution_count": 151,
   "id": "98d14203",
=======
   "execution_count": 81,
   "id": "fe5bae32",
>>>>>>> main
   "metadata": {},
   "outputs": [
    {
     "data": {
      "text/html": [
       "<div>\n",
       "<style scoped>\n",
       "    .dataframe tbody tr th:only-of-type {\n",
       "        vertical-align: middle;\n",
       "    }\n",
       "\n",
       "    .dataframe tbody tr th {\n",
       "        vertical-align: top;\n",
       "    }\n",
       "\n",
       "    .dataframe thead th {\n",
       "        text-align: right;\n",
       "    }\n",
       "</style>\n",
       "<table border=\"1\" class=\"dataframe\">\n",
       "  <thead>\n",
       "    <tr style=\"text-align: right;\">\n",
       "      <th></th>\n",
       "      <th>FECHA_GESTION</th>\n",
       "      <th>HORA_GESTION</th>\n",
       "      <th>DURACION</th>\n",
       "      <th>DNI_AGENTE</th>\n",
       "      <th>DESCRIPCION_AGENTE</th>\n",
       "      <th>DESCRIPCION_GRUPO_TIPIFICACION</th>\n",
       "      <th>DESCRIPCION_TIPIFICACION</th>\n",
       "      <th>OBSERVACIONES</th>\n",
       "      <th>CODIGO_GESTION</th>\n",
       "      <th>CODIGO_AGENTE</th>\n",
       "      <th>...</th>\n",
       "      <th>VENTA_ANI</th>\n",
       "      <th>VENTA_CELULAR</th>\n",
       "      <th>DNI_CONTRATANTE</th>\n",
       "      <th>NOMBRE_CONTRATANTE</th>\n",
       "      <th>INTEGRACION</th>\n",
       "      <th>UTM_CAMPAIGN</th>\n",
       "      <th>UTM_CONTENT</th>\n",
       "      <th>UTM_MEDIUM</th>\n",
       "      <th>UTM_SOURCE</th>\n",
       "      <th>PRIORIDAD</th>\n",
       "    </tr>\n",
       "  </thead>\n",
       "  <tbody>\n",
       "    <tr>\n",
       "      <th>5</th>\n",
       "      <td>11/02/2023</td>\n",
       "      <td>16:08:14</td>\n",
       "      <td>1499</td>\n",
       "      <td>72657892</td>\n",
       "      <td>YOMAIRA CAMILA CAMA ALBINAGORTA</td>\n",
       "      <td>CONTACTO VÁLIDO</td>\n",
       "      <td>PENDIENTE RESPUESTA</td>\n",
       "      <td>NaN</td>\n",
       "      <td>70565056</td>\n",
       "      <td>10172</td>\n",
       "      <td>...</td>\n",
       "      <td>NaN</td>\n",
       "      <td>NaN</td>\n",
       "      <td>NaN</td>\n",
       "      <td>NaN</td>\n",
       "      <td>NaN</td>\n",
       "      <td>NaN</td>\n",
       "      <td>NaN</td>\n",
       "      <td>NaN</td>\n",
       "      <td>NaN</td>\n",
       "      <td>1</td>\n",
       "    </tr>\n",
       "    <tr>\n",
       "      <th>6</th>\n",
       "      <td>11/02/2023</td>\n",
       "      <td>17:15:44</td>\n",
       "      <td>1</td>\n",
       "      <td>72657892</td>\n",
       "      <td>YOMAIRA CAMILA CAMA ALBINAGORTA</td>\n",
       "      <td>CONTACTO VÁLIDO</td>\n",
       "      <td>VENTA SAP</td>\n",
       "      <td>1 ONCOVITAL - OK</td>\n",
       "      <td>70565504</td>\n",
       "      <td>10172</td>\n",
       "      <td>...</td>\n",
       "      <td>900166099.0</td>\n",
       "      <td>900166099.0</td>\n",
       "      <td>72657892.0</td>\n",
       "      <td>YOMAIRA CAMILA CAMA ALBINAGORTA</td>\n",
       "      <td>NaN</td>\n",
       "      <td>NaN</td>\n",
       "      <td>NaN</td>\n",
       "      <td>NaN</td>\n",
       "      <td>NaN</td>\n",
       "      <td>1</td>\n",
       "    </tr>\n",
       "  </tbody>\n",
       "</table>\n",
       "<p>2 rows × 28 columns</p>\n",
       "</div>"
      ],
      "text/plain": [
       "  FECHA_GESTION HORA_GESTION  DURACION  DNI_AGENTE  \\\n",
       "5    11/02/2023     16:08:14      1499    72657892   \n",
       "6    11/02/2023     17:15:44         1    72657892   \n",
       "\n",
       "                DESCRIPCION_AGENTE DESCRIPCION_GRUPO_TIPIFICACION  \\\n",
       "5  YOMAIRA CAMILA CAMA ALBINAGORTA                CONTACTO VÁLIDO   \n",
       "6  YOMAIRA CAMILA CAMA ALBINAGORTA                CONTACTO VÁLIDO   \n",
       "\n",
       "  DESCRIPCION_TIPIFICACION     OBSERVACIONES  CODIGO_GESTION  CODIGO_AGENTE  \\\n",
       "5      PENDIENTE RESPUESTA               NaN        70565056          10172   \n",
       "6                VENTA SAP  1 ONCOVITAL - OK        70565504          10172   \n",
       "\n",
       "   ...    VENTA_ANI  VENTA_CELULAR DNI_CONTRATANTE  \\\n",
       "5  ...          NaN            NaN             NaN   \n",
       "6  ...  900166099.0    900166099.0      72657892.0   \n",
       "\n",
       "                NOMBRE_CONTRATANTE INTEGRACION UTM_CAMPAIGN UTM_CONTENT  \\\n",
       "5                              NaN         NaN          NaN         NaN   \n",
       "6  YOMAIRA CAMILA CAMA ALBINAGORTA         NaN          NaN         NaN   \n",
       "\n",
       "  UTM_MEDIUM  UTM_SOURCE  PRIORIDAD  \n",
       "5        NaN         NaN          1  \n",
       "6        NaN         NaN          1  \n",
       "\n",
       "[2 rows x 28 columns]"
      ]
     },
<<<<<<< HEAD
     "execution_count": 151,
=======
     "execution_count": 81,
>>>>>>> main
     "metadata": {},
     "output_type": "execute_result"
    }
   ],
   "source": [
    "df_temp_CV"
   ]
  },
  {
   "cell_type": "code",
<<<<<<< HEAD
   "execution_count": 152,
   "id": "a962f982",
=======
   "execution_count": 82,
   "id": "0dcd81d4",
>>>>>>> main
   "metadata": {},
   "outputs": [
    {
     "data": {
      "text/html": [
       "<div>\n",
       "<style scoped>\n",
       "    .dataframe tbody tr th:only-of-type {\n",
       "        vertical-align: middle;\n",
       "    }\n",
       "\n",
       "    .dataframe tbody tr th {\n",
       "        vertical-align: top;\n",
       "    }\n",
       "\n",
       "    .dataframe thead th {\n",
       "        text-align: right;\n",
       "    }\n",
       "</style>\n",
       "<table border=\"1\" class=\"dataframe\">\n",
       "  <thead>\n",
       "    <tr style=\"text-align: right;\">\n",
       "      <th></th>\n",
       "      <th>FECHA_GESTION</th>\n",
       "      <th>HORA_GESTION</th>\n",
       "      <th>DURACION</th>\n",
       "      <th>DNI_AGENTE</th>\n",
       "      <th>DESCRIPCION_AGENTE</th>\n",
       "      <th>DESCRIPCION_GRUPO_TIPIFICACION</th>\n",
       "      <th>DESCRIPCION_TIPIFICACION</th>\n",
       "      <th>OBSERVACIONES</th>\n",
       "      <th>CODIGO_GESTION</th>\n",
       "      <th>CODIGO_AGENTE</th>\n",
       "      <th>...</th>\n",
       "      <th>VENTA_ANI</th>\n",
       "      <th>VENTA_CELULAR</th>\n",
       "      <th>DNI_CONTRATANTE</th>\n",
       "      <th>NOMBRE_CONTRATANTE</th>\n",
       "      <th>INTEGRACION</th>\n",
       "      <th>UTM_CAMPAIGN</th>\n",
       "      <th>UTM_CONTENT</th>\n",
       "      <th>UTM_MEDIUM</th>\n",
       "      <th>UTM_SOURCE</th>\n",
       "      <th>PRIORIDAD</th>\n",
       "    </tr>\n",
       "  </thead>\n",
       "  <tbody>\n",
       "    <tr>\n",
       "      <th>5</th>\n",
       "      <td>11/02/2023</td>\n",
       "      <td>16:08:14</td>\n",
       "      <td>1499</td>\n",
       "      <td>72657892</td>\n",
       "      <td>YOMAIRA CAMILA CAMA ALBINAGORTA</td>\n",
       "      <td>CONTACTO VÁLIDO</td>\n",
       "      <td>PENDIENTE RESPUESTA</td>\n",
       "      <td>NaN</td>\n",
       "      <td>70565056</td>\n",
       "      <td>10172</td>\n",
       "      <td>...</td>\n",
       "      <td>NaN</td>\n",
       "      <td>NaN</td>\n",
       "      <td>NaN</td>\n",
       "      <td>NaN</td>\n",
       "      <td>NaN</td>\n",
       "      <td>NaN</td>\n",
       "      <td>NaN</td>\n",
       "      <td>NaN</td>\n",
       "      <td>NaN</td>\n",
       "      <td>1</td>\n",
       "    </tr>\n",
       "    <tr>\n",
       "      <th>6</th>\n",
       "      <td>11/02/2023</td>\n",
       "      <td>17:15:44</td>\n",
       "      <td>1</td>\n",
       "      <td>72657892</td>\n",
       "      <td>YOMAIRA CAMILA CAMA ALBINAGORTA</td>\n",
       "      <td>CONTACTO VÁLIDO</td>\n",
       "      <td>VENTA SAP</td>\n",
       "      <td>1 ONCOVITAL - OK</td>\n",
       "      <td>70565504</td>\n",
       "      <td>10172</td>\n",
       "      <td>...</td>\n",
       "      <td>900166099.0</td>\n",
       "      <td>900166099.0</td>\n",
       "      <td>72657892.0</td>\n",
       "      <td>YOMAIRA CAMILA CAMA ALBINAGORTA</td>\n",
       "      <td>NaN</td>\n",
       "      <td>NaN</td>\n",
       "      <td>NaN</td>\n",
       "      <td>NaN</td>\n",
       "      <td>NaN</td>\n",
       "      <td>1</td>\n",
       "    </tr>\n",
       "    <tr>\n",
       "      <th>7</th>\n",
       "      <td>15/02/2023</td>\n",
       "      <td>15:32:39</td>\n",
       "      <td>47</td>\n",
       "      <td>72657892</td>\n",
       "      <td>YOMAIRA CAMILA CAMA ALBINAGORTA</td>\n",
       "      <td>NO CONTACTO</td>\n",
       "      <td>SISTEMA</td>\n",
       "      <td>NaN</td>\n",
       "      <td>70622580</td>\n",
       "      <td>10172</td>\n",
       "      <td>...</td>\n",
       "      <td>NaN</td>\n",
       "      <td>NaN</td>\n",
       "      <td>NaN</td>\n",
       "      <td>NaN</td>\n",
       "      <td>NaN</td>\n",
       "      <td>NaN</td>\n",
       "      <td>NaN</td>\n",
       "      <td>NaN</td>\n",
       "      <td>NaN</td>\n",
       "      <td>1</td>\n",
       "    </tr>\n",
       "  </tbody>\n",
       "</table>\n",
       "<p>3 rows × 28 columns</p>\n",
       "</div>"
      ],
      "text/plain": [
       "  FECHA_GESTION HORA_GESTION  DURACION  DNI_AGENTE  \\\n",
       "5    11/02/2023     16:08:14      1499    72657892   \n",
       "6    11/02/2023     17:15:44         1    72657892   \n",
       "7    15/02/2023     15:32:39        47    72657892   \n",
       "\n",
       "                DESCRIPCION_AGENTE DESCRIPCION_GRUPO_TIPIFICACION  \\\n",
       "5  YOMAIRA CAMILA CAMA ALBINAGORTA                CONTACTO VÁLIDO   \n",
       "6  YOMAIRA CAMILA CAMA ALBINAGORTA                CONTACTO VÁLIDO   \n",
       "7  YOMAIRA CAMILA CAMA ALBINAGORTA                    NO CONTACTO   \n",
       "\n",
       "  DESCRIPCION_TIPIFICACION     OBSERVACIONES  CODIGO_GESTION  CODIGO_AGENTE  \\\n",
       "5      PENDIENTE RESPUESTA               NaN        70565056          10172   \n",
       "6                VENTA SAP  1 ONCOVITAL - OK        70565504          10172   \n",
       "7                  SISTEMA               NaN        70622580          10172   \n",
       "\n",
       "   ...    VENTA_ANI  VENTA_CELULAR DNI_CONTRATANTE  \\\n",
       "5  ...          NaN            NaN             NaN   \n",
       "6  ...  900166099.0    900166099.0      72657892.0   \n",
       "7  ...          NaN            NaN             NaN   \n",
       "\n",
       "                NOMBRE_CONTRATANTE INTEGRACION UTM_CAMPAIGN UTM_CONTENT  \\\n",
       "5                              NaN         NaN          NaN         NaN   \n",
       "6  YOMAIRA CAMILA CAMA ALBINAGORTA         NaN          NaN         NaN   \n",
       "7                              NaN         NaN          NaN         NaN   \n",
       "\n",
       "  UTM_MEDIUM  UTM_SOURCE  PRIORIDAD  \n",
       "5        NaN         NaN          1  \n",
       "6        NaN         NaN          1  \n",
       "7        NaN         NaN          1  \n",
       "\n",
       "[3 rows x 28 columns]"
      ]
     },
<<<<<<< HEAD
     "execution_count": 152,
=======
     "execution_count": 82,
>>>>>>> main
     "metadata": {},
     "output_type": "execute_result"
    }
   ],
   "source": [
    "df_temp"
   ]
  },
  {
   "cell_type": "code",
<<<<<<< HEAD
   "execution_count": 153,
   "id": "c5ae8b55",
=======
   "execution_count": 83,
   "id": "3ee5d1b6",
>>>>>>> main
   "metadata": {},
   "outputs": [
    {
     "data": {
      "text/plain": [
       "False"
      ]
     },
<<<<<<< HEAD
     "execution_count": 153,
=======
     "execution_count": 83,
>>>>>>> main
     "metadata": {},
     "output_type": "execute_result"
    }
   ],
   "source": [
    "df_temp_CV.empty"
   ]
  },
  {
   "cell_type": "code",
<<<<<<< HEAD
   "execution_count": 154,
   "id": "a115480c",
=======
   "execution_count": 86,
   "id": "c2d7818d",
>>>>>>> main
   "metadata": {},
   "outputs": [],
   "source": [
    "columnas=['FECHA_GESTION', 'HORA_GESTION', 'DURACION', 'DNI_AGENTE',\n",
    "       'DESCRIPCION_AGENTE', 'DESCRIPCION_GRUPO_TIPIFICACION',\n",
    "       'DESCRIPCION_TIPIFICACION', 'OBSERVACIONES', 'CODIGO_GESTION',\n",
    "       'CODIGO_AGENTE', 'TELEFONO_GESTION', 'AFILIADOS', 'FRECUENCIA_PAGO',\n",
    "       'PROGRAMA_AFILIADO', 'TIPO_VENTA', 'SERVICIO', 'BBDD', 'TYPE_LIST_DATE',\n",
    "       'VENTA_ANI', 'VENTA_CELULAR', 'DNI_CONTRATANTE', 'NOMBRE_CONTRATANTE',\n",
    "       'INTEGRACION', 'UTM_CAMPAIGN', 'UTM_CONTENT', 'UTM_MEDIUM',\n",
    "       'UTM_SOURCE', 'PRIORIDAD']"
   ]
  },
  {
   "cell_type": "code",
<<<<<<< HEAD
   "execution_count": 155,
   "id": "1e491639",
=======
   "execution_count": 88,
   "id": "811ea3d4",
>>>>>>> main
   "metadata": {},
   "outputs": [],
   "source": [
    "DF_final=pd.DataFrame(columns=columnas)\n",
    "for cel in telefonos: \n",
    "    df_temp=SCC[SCC['TELEFONO_GESTION']==cel]\n",
    "    df_temp_CV=df_temp[df_temp['DESCRIPCION_GRUPO_TIPIFICACION']=='CONTACTO VÁLIDO']\n",
    "    if df_temp_CV.empty==True:\n",
    "        df_concatencar=df_temp\n",
    "    else:\n",
    "        df_concatencar=df_temp_CV\n",
    "    \n",
    "    DF_final=pd.concat([DF_final,df_concatencar], ignore_index=True)"
   ]
  },
  {
   "cell_type": "code",
<<<<<<< HEAD
   "execution_count": 156,
   "id": "2317e6fa",
=======
   "execution_count": 89,
   "id": "2cdcbd74",
>>>>>>> main
   "metadata": {},
   "outputs": [
    {
     "data": {
      "text/html": [
       "<div>\n",
       "<style scoped>\n",
       "    .dataframe tbody tr th:only-of-type {\n",
       "        vertical-align: middle;\n",
       "    }\n",
       "\n",
       "    .dataframe tbody tr th {\n",
       "        vertical-align: top;\n",
       "    }\n",
       "\n",
       "    .dataframe thead th {\n",
       "        text-align: right;\n",
       "    }\n",
       "</style>\n",
       "<table border=\"1\" class=\"dataframe\">\n",
       "  <thead>\n",
       "    <tr style=\"text-align: right;\">\n",
       "      <th></th>\n",
       "      <th>FECHA_GESTION</th>\n",
       "      <th>HORA_GESTION</th>\n",
       "      <th>DURACION</th>\n",
       "      <th>DNI_AGENTE</th>\n",
       "      <th>DESCRIPCION_AGENTE</th>\n",
       "      <th>DESCRIPCION_GRUPO_TIPIFICACION</th>\n",
       "      <th>DESCRIPCION_TIPIFICACION</th>\n",
       "      <th>OBSERVACIONES</th>\n",
       "      <th>CODIGO_GESTION</th>\n",
       "      <th>CODIGO_AGENTE</th>\n",
       "      <th>...</th>\n",
       "      <th>VENTA_ANI</th>\n",
       "      <th>VENTA_CELULAR</th>\n",
       "      <th>DNI_CONTRATANTE</th>\n",
       "      <th>NOMBRE_CONTRATANTE</th>\n",
       "      <th>INTEGRACION</th>\n",
       "      <th>UTM_CAMPAIGN</th>\n",
       "      <th>UTM_CONTENT</th>\n",
       "      <th>UTM_MEDIUM</th>\n",
       "      <th>UTM_SOURCE</th>\n",
       "      <th>PRIORIDAD</th>\n",
       "    </tr>\n",
       "  </thead>\n",
       "  <tbody>\n",
       "    <tr>\n",
       "      <th>0</th>\n",
       "      <td>16/02/2023</td>\n",
       "      <td>15:01:11</td>\n",
       "      <td>0</td>\n",
       "      <td>76134563</td>\n",
       "      <td>MARIA  TERESA NUÑEZ HERRERA</td>\n",
       "      <td>CONTACTO VÁLIDO</td>\n",
       "      <td>NO DESEA / CUENTA OTRO SEGURO</td>\n",
       "      <td>NaN</td>\n",
       "      <td>70641054</td>\n",
       "      <td>10206</td>\n",
       "      <td>...</td>\n",
       "      <td>NaN</td>\n",
       "      <td>NaN</td>\n",
       "      <td>NaN</td>\n",
       "      <td>NaN</td>\n",
       "      <td>NaN</td>\n",
       "      <td>NaN</td>\n",
       "      <td>NaN</td>\n",
       "      <td>NaN</td>\n",
       "      <td>NaN</td>\n",
       "      <td>1</td>\n",
       "    </tr>\n",
       "    <tr>\n",
       "      <th>1</th>\n",
       "      <td>02/02/2023</td>\n",
       "      <td>12:42:24</td>\n",
       "      <td>103</td>\n",
       "      <td>44881000</td>\n",
       "      <td>ERWIN MACEDO MEZA</td>\n",
       "      <td>CONTACTO VÁLIDO</td>\n",
       "      <td>VENTA SAP</td>\n",
       "      <td>FICHA DE PRUEBA</td>\n",
       "      <td>70413086</td>\n",
       "      <td>7555</td>\n",
       "      <td>...</td>\n",
       "      <td>NaN</td>\n",
       "      <td>NaN</td>\n",
       "      <td>NaN</td>\n",
       "      <td>NaN</td>\n",
       "      <td>NaN</td>\n",
       "      <td>NaN</td>\n",
       "      <td>NaN</td>\n",
       "      <td>NaN</td>\n",
       "      <td>NaN</td>\n",
       "      <td>1</td>\n",
       "    </tr>\n",
       "    <tr>\n",
       "      <th>2</th>\n",
       "      <td>02/02/2023</td>\n",
       "      <td>12:48:05</td>\n",
       "      <td>23</td>\n",
       "      <td>44881000</td>\n",
       "      <td>ERWIN MACEDO MEZA</td>\n",
       "      <td>CONTACTO VÁLIDO</td>\n",
       "      <td>VENTA SAP</td>\n",
       "      <td>FICHA DE PRUEBA</td>\n",
       "      <td>70413274</td>\n",
       "      <td>7555</td>\n",
       "      <td>...</td>\n",
       "      <td>NaN</td>\n",
       "      <td>NaN</td>\n",
       "      <td>NaN</td>\n",
       "      <td>NaN</td>\n",
       "      <td>NaN</td>\n",
       "      <td>NaN</td>\n",
       "      <td>NaN</td>\n",
       "      <td>NaN</td>\n",
       "      <td>NaN</td>\n",
       "      <td>1</td>\n",
       "    </tr>\n",
       "    <tr>\n",
       "      <th>3</th>\n",
       "      <td>28/02/2023</td>\n",
       "      <td>16:13:52</td>\n",
       "      <td>0</td>\n",
       "      <td>76878427</td>\n",
       "      <td>HANNI BETTY  NANCHI MAYAK</td>\n",
       "      <td>NO CONTACTO</td>\n",
       "      <td>TIMBRE SIN CONTESTAR</td>\n",
       "      <td>NaN</td>\n",
       "      <td>70859311</td>\n",
       "      <td>10192</td>\n",
       "      <td>...</td>\n",
       "      <td>NaN</td>\n",
       "      <td>NaN</td>\n",
       "      <td>NaN</td>\n",
       "      <td>NaN</td>\n",
       "      <td>NaN</td>\n",
       "      <td>NaN</td>\n",
       "      <td>NaN</td>\n",
       "      <td>NaN</td>\n",
       "      <td>NaN</td>\n",
       "      <td>1</td>\n",
       "    </tr>\n",
       "    <tr>\n",
       "      <th>4</th>\n",
       "      <td>09/02/2023</td>\n",
       "      <td>12:45:11</td>\n",
       "      <td>0</td>\n",
       "      <td>72657892</td>\n",
       "      <td>YOMAIRA CAMILA CAMA ALBINAGORTA</td>\n",
       "      <td>NO CONTACTO</td>\n",
       "      <td>TIMBRE SIN CONTESTAR</td>\n",
       "      <td>NaN</td>\n",
       "      <td>70521577</td>\n",
       "      <td>10172</td>\n",
       "      <td>...</td>\n",
       "      <td>NaN</td>\n",
       "      <td>NaN</td>\n",
       "      <td>NaN</td>\n",
       "      <td>NaN</td>\n",
       "      <td>NaN</td>\n",
       "      <td>NaN</td>\n",
       "      <td>NaN</td>\n",
       "      <td>NaN</td>\n",
       "      <td>NaN</td>\n",
       "      <td>1</td>\n",
       "    </tr>\n",
       "    <tr>\n",
       "      <th>...</th>\n",
       "      <td>...</td>\n",
       "      <td>...</td>\n",
       "      <td>...</td>\n",
       "      <td>...</td>\n",
       "      <td>...</td>\n",
       "      <td>...</td>\n",
       "      <td>...</td>\n",
       "      <td>...</td>\n",
       "      <td>...</td>\n",
       "      <td>...</td>\n",
       "      <td>...</td>\n",
       "      <td>...</td>\n",
       "      <td>...</td>\n",
       "      <td>...</td>\n",
       "      <td>...</td>\n",
       "      <td>...</td>\n",
       "      <td>...</td>\n",
       "      <td>...</td>\n",
       "      <td>...</td>\n",
       "      <td>...</td>\n",
       "      <td>...</td>\n",
       "    </tr>\n",
       "    <tr>\n",
       "      <th>45793</th>\n",
       "      <td>28/02/2023</td>\n",
       "      <td>20:10:38</td>\n",
       "      <td>405</td>\n",
       "      <td>48584104</td>\n",
       "      <td>INES FRIODELA HUAMANI MARTEL</td>\n",
       "      <td>CONTACTO VÁLIDO</td>\n",
       "      <td>CLIENTE ENDEUDADO, NO TIENE DINERO</td>\n",
       "      <td>56_x000D_\\n54_x000D_\\n*********  53</td>\n",
       "      <td>70861487</td>\n",
       "      <td>5635</td>\n",
       "      <td>...</td>\n",
       "      <td>NaN</td>\n",
       "      <td>NaN</td>\n",
       "      <td>NaN</td>\n",
       "      <td>NaN</td>\n",
       "      <td>Leads abandono EECC onco paso 1 prueba SCC</td>\n",
       "      <td>DO-GOOGLE-SC-IAFAS-ONCO_ECOM-BRAND_SEARCH-CONV...</td>\n",
       "      <td>brand_oncosalud</td>\n",
       "      <td>cpc</td>\n",
       "      <td>Google</td>\n",
       "      <td>1</td>\n",
       "    </tr>\n",
       "    <tr>\n",
       "      <th>45794</th>\n",
       "      <td>28/02/2023</td>\n",
       "      <td>20:41:05</td>\n",
       "      <td>36</td>\n",
       "      <td>45834653</td>\n",
       "      <td>LADY LAURA  CAMA  SANCHEZ</td>\n",
       "      <td>CONTACTO VÁLIDO</td>\n",
       "      <td>VENTA SAP</td>\n",
       "      <td>VENTA OK - LADY - PAGO LINK</td>\n",
       "      <td>70861528</td>\n",
       "      <td>2079</td>\n",
       "      <td>...</td>\n",
       "      <td>900167864.0</td>\n",
       "      <td>900167864.0</td>\n",
       "      <td>16175633.0</td>\n",
       "      <td>JOSE LUIS QUISPE NINA</td>\n",
       "      <td>Abandono Onco EECC - Contáctame</td>\n",
       "      <td>DO-GOOGLE-SC-IAFAS-ONCO_ECOM-GENERICS_SEARCH-C...</td>\n",
       "      <td>generics_seguros_oncologicos</td>\n",
       "      <td>cpc</td>\n",
       "      <td>Google</td>\n",
       "      <td>1</td>\n",
       "    </tr>\n",
       "    <tr>\n",
       "      <th>45795</th>\n",
       "      <td>28/02/2023</td>\n",
       "      <td>20:50:33</td>\n",
       "      <td>25</td>\n",
       "      <td>45834653</td>\n",
       "      <td>LADY LAURA  CAMA  SANCHEZ</td>\n",
       "      <td>NO CONTACTO</td>\n",
       "      <td>SISTEMA</td>\n",
       "      <td>NaN</td>\n",
       "      <td>70861545</td>\n",
       "      <td>2079</td>\n",
       "      <td>...</td>\n",
       "      <td>NaN</td>\n",
       "      <td>NaN</td>\n",
       "      <td>NaN</td>\n",
       "      <td>NaN</td>\n",
       "      <td>Leads abandono EECC onco paso 1 prueba SCC</td>\n",
       "      <td>DO-FB-FB-IAFAS-MARKETING-CANCERPIEL-CONV-ENE-2023</td>\n",
       "      <td>motivo_protector</td>\n",
       "      <td>paidsocial</td>\n",
       "      <td>facebook</td>\n",
       "      <td>1</td>\n",
       "    </tr>\n",
       "    <tr>\n",
       "      <th>45796</th>\n",
       "      <td>28/02/2023</td>\n",
       "      <td>20:51:05</td>\n",
       "      <td>301</td>\n",
       "      <td>48584104</td>\n",
       "      <td>INES FRIODELA HUAMANI MARTEL</td>\n",
       "      <td>CONTACTO NO VÁLIDO</td>\n",
       "      <td>CUELGA SIN DAR RAZÓN</td>\n",
       "      <td>NaN</td>\n",
       "      <td>70861551</td>\n",
       "      <td>5635</td>\n",
       "      <td>...</td>\n",
       "      <td>NaN</td>\n",
       "      <td>NaN</td>\n",
       "      <td>NaN</td>\n",
       "      <td>NaN</td>\n",
       "      <td>Abandono Onco EECC - Paso 0</td>\n",
       "      <td>DO-GOOGLE-SC-IAFAS-ONCO_ECOM-BRAND_SEARCH-CONV...</td>\n",
       "      <td>brand_oncosalud</td>\n",
       "      <td>cpc</td>\n",
       "      <td>Google</td>\n",
       "      <td>1</td>\n",
       "    </tr>\n",
       "    <tr>\n",
       "      <th>45797</th>\n",
       "      <td>28/02/2023</td>\n",
       "      <td>21:01:32</td>\n",
       "      <td>9</td>\n",
       "      <td>48584104</td>\n",
       "      <td>INES FRIODELA HUAMANI MARTEL</td>\n",
       "      <td>NO CONTACTO</td>\n",
       "      <td>CONTESTADORA</td>\n",
       "      <td>NaN</td>\n",
       "      <td>70861558</td>\n",
       "      <td>5635</td>\n",
       "      <td>...</td>\n",
       "      <td>NaN</td>\n",
       "      <td>NaN</td>\n",
       "      <td>NaN</td>\n",
       "      <td>NaN</td>\n",
       "      <td>Duate Onco SCC</td>\n",
       "      <td>verano_onco_feb2023</td>\n",
       "      <td>eccOnco_verano_onco_duate_onco_mujeresenr_26-0...</td>\n",
       "      <td>email</td>\n",
       "      <td>bbdd</td>\n",
       "      <td>1</td>\n",
       "    </tr>\n",
       "  </tbody>\n",
       "</table>\n",
       "<p>45798 rows × 28 columns</p>\n",
       "</div>"
      ],
      "text/plain": [
       "      FECHA_GESTION HORA_GESTION DURACION DNI_AGENTE  \\\n",
       "0        16/02/2023     15:01:11        0   76134563   \n",
       "1        02/02/2023     12:42:24      103   44881000   \n",
       "2        02/02/2023     12:48:05       23   44881000   \n",
       "3        28/02/2023     16:13:52        0   76878427   \n",
       "4        09/02/2023     12:45:11        0   72657892   \n",
       "...             ...          ...      ...        ...   \n",
       "45793    28/02/2023     20:10:38      405   48584104   \n",
       "45794    28/02/2023     20:41:05       36   45834653   \n",
       "45795    28/02/2023     20:50:33       25   45834653   \n",
       "45796    28/02/2023     20:51:05      301   48584104   \n",
       "45797    28/02/2023     21:01:32        9   48584104   \n",
       "\n",
       "                    DESCRIPCION_AGENTE DESCRIPCION_GRUPO_TIPIFICACION  \\\n",
       "0         MARIA  TERESA NUÑEZ HERRERA                 CONTACTO VÁLIDO   \n",
       "1                    ERWIN MACEDO MEZA                CONTACTO VÁLIDO   \n",
       "2                    ERWIN MACEDO MEZA                CONTACTO VÁLIDO   \n",
       "3           HANNI BETTY  NANCHI MAYAK                     NO CONTACTO   \n",
       "4      YOMAIRA CAMILA CAMA ALBINAGORTA                    NO CONTACTO   \n",
       "...                                ...                            ...   \n",
       "45793     INES FRIODELA HUAMANI MARTEL                CONTACTO VÁLIDO   \n",
       "45794        LADY LAURA  CAMA  SANCHEZ                CONTACTO VÁLIDO   \n",
       "45795        LADY LAURA  CAMA  SANCHEZ                    NO CONTACTO   \n",
       "45796     INES FRIODELA HUAMANI MARTEL             CONTACTO NO VÁLIDO   \n",
       "45797     INES FRIODELA HUAMANI MARTEL                    NO CONTACTO   \n",
       "\n",
       "                 DESCRIPCION_TIPIFICACION  \\\n",
       "0           NO DESEA / CUENTA OTRO SEGURO   \n",
       "1                               VENTA SAP   \n",
       "2                               VENTA SAP   \n",
       "3                    TIMBRE SIN CONTESTAR   \n",
       "4                    TIMBRE SIN CONTESTAR   \n",
       "...                                   ...   \n",
       "45793  CLIENTE ENDEUDADO, NO TIENE DINERO   \n",
       "45794                           VENTA SAP   \n",
       "45795                             SISTEMA   \n",
       "45796                CUELGA SIN DAR RAZÓN   \n",
       "45797                        CONTESTADORA   \n",
       "\n",
       "                             OBSERVACIONES CODIGO_GESTION CODIGO_AGENTE  ...  \\\n",
       "0                                      NaN       70641054         10206  ...   \n",
       "1                          FICHA DE PRUEBA       70413086          7555  ...   \n",
       "2                          FICHA DE PRUEBA       70413274          7555  ...   \n",
       "3                                      NaN       70859311         10192  ...   \n",
       "4                                      NaN       70521577         10172  ...   \n",
       "...                                    ...            ...           ...  ...   \n",
       "45793  56_x000D_\\n54_x000D_\\n*********  53       70861487          5635  ...   \n",
       "45794          VENTA OK - LADY - PAGO LINK       70861528          2079  ...   \n",
       "45795                                  NaN       70861545          2079  ...   \n",
       "45796                                  NaN       70861551          5635  ...   \n",
       "45797                                  NaN       70861558          5635  ...   \n",
       "\n",
       "         VENTA_ANI  VENTA_CELULAR DNI_CONTRATANTE     NOMBRE_CONTRATANTE  \\\n",
       "0              NaN            NaN             NaN                    NaN   \n",
       "1              NaN            NaN             NaN                    NaN   \n",
       "2              NaN            NaN             NaN                    NaN   \n",
       "3              NaN            NaN             NaN                    NaN   \n",
       "4              NaN            NaN             NaN                    NaN   \n",
       "...            ...            ...             ...                    ...   \n",
       "45793          NaN            NaN             NaN                    NaN   \n",
       "45794  900167864.0    900167864.0      16175633.0  JOSE LUIS QUISPE NINA   \n",
       "45795          NaN            NaN             NaN                    NaN   \n",
       "45796          NaN            NaN             NaN                    NaN   \n",
       "45797          NaN            NaN             NaN                    NaN   \n",
       "\n",
       "                                      INTEGRACION  \\\n",
       "0                                             NaN   \n",
       "1                                             NaN   \n",
       "2                                             NaN   \n",
       "3                                             NaN   \n",
       "4                                             NaN   \n",
       "...                                           ...   \n",
       "45793  Leads abandono EECC onco paso 1 prueba SCC   \n",
       "45794             Abandono Onco EECC - Contáctame   \n",
       "45795  Leads abandono EECC onco paso 1 prueba SCC   \n",
       "45796                 Abandono Onco EECC - Paso 0   \n",
       "45797                              Duate Onco SCC   \n",
       "\n",
       "                                            UTM_CAMPAIGN  \\\n",
       "0                                                    NaN   \n",
       "1                                                    NaN   \n",
       "2                                                    NaN   \n",
       "3                                                    NaN   \n",
       "4                                                    NaN   \n",
       "...                                                  ...   \n",
       "45793  DO-GOOGLE-SC-IAFAS-ONCO_ECOM-BRAND_SEARCH-CONV...   \n",
       "45794  DO-GOOGLE-SC-IAFAS-ONCO_ECOM-GENERICS_SEARCH-C...   \n",
       "45795  DO-FB-FB-IAFAS-MARKETING-CANCERPIEL-CONV-ENE-2023   \n",
       "45796  DO-GOOGLE-SC-IAFAS-ONCO_ECOM-BRAND_SEARCH-CONV...   \n",
       "45797                                verano_onco_feb2023   \n",
       "\n",
       "                                             UTM_CONTENT  UTM_MEDIUM  \\\n",
       "0                                                    NaN         NaN   \n",
       "1                                                    NaN         NaN   \n",
       "2                                                    NaN         NaN   \n",
       "3                                                    NaN         NaN   \n",
       "4                                                    NaN         NaN   \n",
       "...                                                  ...         ...   \n",
       "45793                                    brand_oncosalud         cpc   \n",
       "45794                       generics_seguros_oncologicos         cpc   \n",
       "45795                                   motivo_protector  paidsocial   \n",
       "45796                                    brand_oncosalud         cpc   \n",
       "45797  eccOnco_verano_onco_duate_onco_mujeresenr_26-0...       email   \n",
       "\n",
       "       UTM_SOURCE  PRIORIDAD  \n",
       "0             NaN          1  \n",
       "1             NaN          1  \n",
       "2             NaN          1  \n",
       "3             NaN          1  \n",
       "4             NaN          1  \n",
       "...           ...        ...  \n",
       "45793      Google          1  \n",
       "45794      Google          1  \n",
       "45795    facebook          1  \n",
       "45796      Google          1  \n",
       "45797        bbdd          1  \n",
       "\n",
       "[45798 rows x 28 columns]"
      ]
     },
<<<<<<< HEAD
     "execution_count": 156,
=======
     "execution_count": 89,
>>>>>>> main
     "metadata": {},
     "output_type": "execute_result"
    }
   ],
   "source": [
    "DF_final"
   ]
  },
  {
   "cell_type": "code",
<<<<<<< HEAD
   "execution_count": 157,
   "id": "820c4eb8",
=======
   "execution_count": 100,
   "id": "28235540",
>>>>>>> main
   "metadata": {},
   "outputs": [
    {
     "data": {
      "text/plain": [
       "DESCRIPCION_GRUPO_TIPIFICACION\n",
       "CONTACTO NO VÁLIDO    9195\n",
       "CONTACTO VÁLIDO       9651\n",
       "NO CONTACTO           8374\n",
       "Name: TELEFONO_GESTION, dtype: int64"
      ]
     },
<<<<<<< HEAD
     "execution_count": 157,
=======
     "execution_count": 100,
>>>>>>> main
     "metadata": {},
     "output_type": "execute_result"
    }
   ],
   "source": [
    "DF_final.groupby('DESCRIPCION_GRUPO_TIPIFICACION')['TELEFONO_GESTION'].nunique()"
   ]
  },
  {
   "cell_type": "code",
<<<<<<< HEAD
   "execution_count": 158,
   "id": "fca1fcfe",
=======
   "execution_count": 103,
   "id": "d51627fa",
>>>>>>> main
   "metadata": {},
   "outputs": [
    {
     "data": {
      "text/plain": [
       "DESCRIPCION_GRUPO_TIPIFICACION\n",
       "CONTACTO NO VÁLIDO    0.337803\n",
       "CONTACTO VÁLIDO       0.354555\n",
       "NO CONTACTO           0.307641\n",
       "Name: TELEFONO_GESTION, dtype: float64"
      ]
     },
<<<<<<< HEAD
     "execution_count": 158,
=======
     "execution_count": 103,
>>>>>>> main
     "metadata": {},
     "output_type": "execute_result"
    }
   ],
   "source": [
    "DF_final.groupby('DESCRIPCION_GRUPO_TIPIFICACION')['TELEFONO_GESTION'].nunique()/(9195+9651+8374)"
<<<<<<< HEAD
=======
   ]
  },
  {
   "cell_type": "code",
   "execution_count": 104,
   "id": "4ba18281",
   "metadata": {},
   "outputs": [
    {
     "data": {
      "text/plain": [
       "DESCRIPCION_GRUPO_TIPIFICACION\n",
       "CONTACTO NO VÁLIDO    0.200773\n",
       "CONTACTO VÁLIDO       0.210730\n",
       "NO CONTACTO           0.182846\n",
       "Name: TELEFONO_GESTION, dtype: float64"
      ]
     },
     "execution_count": 104,
     "metadata": {},
     "output_type": "execute_result"
    }
   ],
   "source": [
    "porcentaje_telefonos"
>>>>>>> main
   ]
  },
  {
   "cell_type": "code",
   "execution_count": null,
<<<<<<< HEAD
   "id": "f9563d69",
   "metadata": {},
   "outputs": [],
   "source": []
  },
  {
   "cell_type": "code",
   "execution_count": 159,
   "id": "293a7ba3",
   "metadata": {},
   "outputs": [],
   "source": [
    "SCC_Enero=pd.read_excel(\"Gestión de Leads_SCC_Enero.xlsx\")"
   ]
  },
  {
   "cell_type": "code",
   "execution_count": 167,
   "id": "e6a25343",
   "metadata": {},
   "outputs": [
    {
     "data": {
      "text/html": [
       "<div>\n",
       "<style scoped>\n",
       "    .dataframe tbody tr th:only-of-type {\n",
       "        vertical-align: middle;\n",
       "    }\n",
       "\n",
       "    .dataframe tbody tr th {\n",
       "        vertical-align: top;\n",
       "    }\n",
       "\n",
       "    .dataframe thead th {\n",
       "        text-align: right;\n",
       "    }\n",
       "</style>\n",
       "<table border=\"1\" class=\"dataframe\">\n",
       "  <thead>\n",
       "    <tr style=\"text-align: right;\">\n",
       "      <th></th>\n",
       "      <th>FECHA_GESTION</th>\n",
       "      <th>HORA_GESTION</th>\n",
       "      <th>DURACION</th>\n",
       "      <th>DNI_AGENTE</th>\n",
       "      <th>DESCRIPCION_AGENTE</th>\n",
       "      <th>DESCRIPCION_GRUPO_TIPIFICACION</th>\n",
       "      <th>DESCRIPCION_TIPIFICACION</th>\n",
       "      <th>OBSERVACIONES</th>\n",
       "      <th>CODIGO_GESTION</th>\n",
       "      <th>CODIGO_AGENTE</th>\n",
       "      <th>...</th>\n",
       "      <th>VENTA_ANI</th>\n",
       "      <th>VENTA_CELULAR</th>\n",
       "      <th>DNI_CONTRATANTE</th>\n",
       "      <th>NOMBRE_CONTRATANTE</th>\n",
       "      <th>INTEGRACION</th>\n",
       "      <th>UTM_CAMPAIGN</th>\n",
       "      <th>UTM_CONTENT</th>\n",
       "      <th>UTM_MEDIUM</th>\n",
       "      <th>UTM_SOURCE</th>\n",
       "      <th>PRIORIDAD</th>\n",
       "    </tr>\n",
       "  </thead>\n",
       "  <tbody>\n",
       "    <tr>\n",
       "      <th>0</th>\n",
       "      <td>07/01/2023</td>\n",
       "      <td>10:36:00</td>\n",
       "      <td>1</td>\n",
       "      <td>46385221</td>\n",
       "      <td>CHRISTOPHER BRYAN ANGOLA BARRETO</td>\n",
       "      <td>NO CONTACTO</td>\n",
       "      <td>SISTEMA</td>\n",
       "      <td>NaN</td>\n",
       "      <td>70005291</td>\n",
       "      <td>10008</td>\n",
       "      <td>...</td>\n",
       "      <td>NaN</td>\n",
       "      <td>NaN</td>\n",
       "      <td>NaN</td>\n",
       "      <td>NaN</td>\n",
       "      <td>NaN</td>\n",
       "      <td>NaN</td>\n",
       "      <td>NaN</td>\n",
       "      <td>NaN</td>\n",
       "      <td>NaN</td>\n",
       "      <td>1</td>\n",
       "    </tr>\n",
       "    <tr>\n",
       "      <th>1</th>\n",
       "      <td>07/01/2023</td>\n",
       "      <td>11:07:20</td>\n",
       "      <td>0</td>\n",
       "      <td>46385221</td>\n",
       "      <td>CHRISTOPHER BRYAN ANGOLA BARRETO</td>\n",
       "      <td>NO CONTACTO</td>\n",
       "      <td>SISTEMA</td>\n",
       "      <td>NaN</td>\n",
       "      <td>70006865</td>\n",
       "      <td>10008</td>\n",
       "      <td>...</td>\n",
       "      <td>NaN</td>\n",
       "      <td>NaN</td>\n",
       "      <td>NaN</td>\n",
       "      <td>NaN</td>\n",
       "      <td>NaN</td>\n",
       "      <td>NaN</td>\n",
       "      <td>NaN</td>\n",
       "      <td>NaN</td>\n",
       "      <td>NaN</td>\n",
       "      <td>1</td>\n",
       "    </tr>\n",
       "    <tr>\n",
       "      <th>2</th>\n",
       "      <td>10/01/2023</td>\n",
       "      <td>10:58:51</td>\n",
       "      <td>23</td>\n",
       "      <td>46385221</td>\n",
       "      <td>CHRISTOPHER BRYAN ANGOLA BARRETO</td>\n",
       "      <td>NO CONTACTO</td>\n",
       "      <td>SISTEMA</td>\n",
       "      <td>NaN</td>\n",
       "      <td>70044571</td>\n",
       "      <td>10008</td>\n",
       "      <td>...</td>\n",
       "      <td>NaN</td>\n",
       "      <td>NaN</td>\n",
       "      <td>NaN</td>\n",
       "      <td>NaN</td>\n",
       "      <td>NaN</td>\n",
       "      <td>NaN</td>\n",
       "      <td>NaN</td>\n",
       "      <td>NaN</td>\n",
       "      <td>NaN</td>\n",
       "      <td>1</td>\n",
       "    </tr>\n",
       "    <tr>\n",
       "      <th>3</th>\n",
       "      <td>10/01/2023</td>\n",
       "      <td>11:15:51</td>\n",
       "      <td>19</td>\n",
       "      <td>46385221</td>\n",
       "      <td>CHRISTOPHER BRYAN ANGOLA BARRETO</td>\n",
       "      <td>NO CONTACTO</td>\n",
       "      <td>SISTEMA</td>\n",
       "      <td>NaN</td>\n",
       "      <td>70045558</td>\n",
       "      <td>10008</td>\n",
       "      <td>...</td>\n",
       "      <td>NaN</td>\n",
       "      <td>NaN</td>\n",
       "      <td>NaN</td>\n",
       "      <td>NaN</td>\n",
       "      <td>NaN</td>\n",
       "      <td>NaN</td>\n",
       "      <td>NaN</td>\n",
       "      <td>NaN</td>\n",
       "      <td>NaN</td>\n",
       "      <td>1</td>\n",
       "    </tr>\n",
       "    <tr>\n",
       "      <th>4</th>\n",
       "      <td>10/01/2023</td>\n",
       "      <td>12:22:21</td>\n",
       "      <td>26</td>\n",
       "      <td>46385221</td>\n",
       "      <td>CHRISTOPHER BRYAN ANGOLA BARRETO</td>\n",
       "      <td>NO CONTACTO</td>\n",
       "      <td>SISTEMA</td>\n",
       "      <td>NaN</td>\n",
       "      <td>70049192</td>\n",
       "      <td>10008</td>\n",
       "      <td>...</td>\n",
       "      <td>NaN</td>\n",
       "      <td>NaN</td>\n",
       "      <td>NaN</td>\n",
       "      <td>NaN</td>\n",
       "      <td>NaN</td>\n",
       "      <td>NaN</td>\n",
       "      <td>NaN</td>\n",
       "      <td>NaN</td>\n",
       "      <td>NaN</td>\n",
       "      <td>1</td>\n",
       "    </tr>\n",
       "  </tbody>\n",
       "</table>\n",
       "<p>5 rows × 28 columns</p>\n",
       "</div>"
      ],
      "text/plain": [
       "  FECHA_GESTION HORA_GESTION  DURACION  DNI_AGENTE  \\\n",
       "0    07/01/2023     10:36:00         1    46385221   \n",
       "1    07/01/2023     11:07:20         0    46385221   \n",
       "2    10/01/2023     10:58:51        23    46385221   \n",
       "3    10/01/2023     11:15:51        19    46385221   \n",
       "4    10/01/2023     12:22:21        26    46385221   \n",
       "\n",
       "                 DESCRIPCION_AGENTE DESCRIPCION_GRUPO_TIPIFICACION  \\\n",
       "0  CHRISTOPHER BRYAN ANGOLA BARRETO                    NO CONTACTO   \n",
       "1  CHRISTOPHER BRYAN ANGOLA BARRETO                    NO CONTACTO   \n",
       "2  CHRISTOPHER BRYAN ANGOLA BARRETO                    NO CONTACTO   \n",
       "3  CHRISTOPHER BRYAN ANGOLA BARRETO                    NO CONTACTO   \n",
       "4  CHRISTOPHER BRYAN ANGOLA BARRETO                    NO CONTACTO   \n",
       "\n",
       "  DESCRIPCION_TIPIFICACION OBSERVACIONES  CODIGO_GESTION  CODIGO_AGENTE  ...  \\\n",
       "0                  SISTEMA           NaN        70005291          10008  ...   \n",
       "1                  SISTEMA           NaN        70006865          10008  ...   \n",
       "2                  SISTEMA           NaN        70044571          10008  ...   \n",
       "3                  SISTEMA           NaN        70045558          10008  ...   \n",
       "4                  SISTEMA           NaN        70049192          10008  ...   \n",
       "\n",
       "   VENTA_ANI  VENTA_CELULAR DNI_CONTRATANTE NOMBRE_CONTRATANTE INTEGRACION  \\\n",
       "0        NaN            NaN             NaN                NaN         NaN   \n",
       "1        NaN            NaN             NaN                NaN         NaN   \n",
       "2        NaN            NaN             NaN                NaN         NaN   \n",
       "3        NaN            NaN             NaN                NaN         NaN   \n",
       "4        NaN            NaN             NaN                NaN         NaN   \n",
       "\n",
       "  UTM_CAMPAIGN UTM_CONTENT UTM_MEDIUM  UTM_SOURCE  PRIORIDAD  \n",
       "0          NaN         NaN        NaN         NaN          1  \n",
       "1          NaN         NaN        NaN         NaN          1  \n",
       "2          NaN         NaN        NaN         NaN          1  \n",
       "3          NaN         NaN        NaN         NaN          1  \n",
       "4          NaN         NaN        NaN         NaN          1  \n",
       "\n",
       "[5 rows x 28 columns]"
      ]
     },
     "execution_count": 167,
     "metadata": {},
     "output_type": "execute_result"
    }
   ],
   "source": [
    "SCC_Enero.head()"
   ]
  },
  {
   "cell_type": "code",
   "execution_count": 160,
   "id": "1bc9e6f5",
   "metadata": {},
   "outputs": [
    {
     "name": "stdout",
     "output_type": "stream",
     "text": [
      "<class 'pandas.core.frame.DataFrame'>\n",
      "RangeIndex: 39516 entries, 0 to 39515\n",
      "Data columns (total 28 columns):\n",
      " #   Column                          Non-Null Count  Dtype         \n",
      "---  ------                          --------------  -----         \n",
      " 0   FECHA_GESTION                   39516 non-null  object        \n",
      " 1   HORA_GESTION                    39516 non-null  object        \n",
      " 2   DURACION                        39516 non-null  int64         \n",
      " 3   DNI_AGENTE                      39516 non-null  int64         \n",
      " 4   DESCRIPCION_AGENTE              39516 non-null  object        \n",
      " 5   DESCRIPCION_GRUPO_TIPIFICACION  39516 non-null  object        \n",
      " 6   DESCRIPCION_TIPIFICACION        39467 non-null  object        \n",
      " 7   OBSERVACIONES                   5676 non-null   object        \n",
      " 8   CODIGO_GESTION                  39516 non-null  int64         \n",
      " 9   CODIGO_AGENTE                   39516 non-null  int64         \n",
      " 10  TELEFONO_GESTION                39516 non-null  int64         \n",
      " 11  AFILIADOS                       843 non-null    float64       \n",
      " 12  FRECUENCIA_PAGO                 843 non-null    object        \n",
      " 13  PROGRAMA_AFILIADO               843 non-null    object        \n",
      " 14  TIPO_VENTA                      843 non-null    object        \n",
      " 15  SERVICIO                        843 non-null    object        \n",
      " 16  BBDD                            39516 non-null  object        \n",
      " 17  TYPE_LIST_DATE                  39516 non-null  datetime64[ns]\n",
      " 18  VENTA_ANI                       843 non-null    float64       \n",
      " 19  VENTA_CELULAR                   843 non-null    float64       \n",
      " 20  DNI_CONTRATANTE                 843 non-null    float64       \n",
      " 21  NOMBRE_CONTRATANTE              843 non-null    object        \n",
      " 22  INTEGRACION                     33002 non-null  object        \n",
      " 23  UTM_CAMPAIGN                    29210 non-null  object        \n",
      " 24  UTM_CONTENT                     26545 non-null  object        \n",
      " 25  UTM_MEDIUM                      26962 non-null  object        \n",
      " 26  UTM_SOURCE                      27080 non-null  object        \n",
      " 27  PRIORIDAD                       39516 non-null  int64         \n",
      "dtypes: datetime64[ns](1), float64(4), int64(6), object(17)\n",
      "memory usage: 8.4+ MB\n"
     ]
    }
   ],
   "source": [
    "SCC_Enero.info()"
   ]
  },
  {
   "cell_type": "code",
   "execution_count": 161,
   "id": "873bdd21",
   "metadata": {},
   "outputs": [
    {
     "data": {
      "text/plain": [
       "array(['07/01/2023', '10/01/2023', '12/01/2023', '14/01/2023',\n",
       "       '24/01/2023', '31/01/2023', '20/01/2023', '04/01/2023',\n",
       "       '18/01/2023', '09/01/2023', '03/01/2023', '27/01/2023',\n",
       "       '23/01/2023', '26/01/2023', '25/01/2023', '16/01/2023',\n",
       "       '05/01/2023', '11/01/2023', '30/01/2023', '13/01/2023',\n",
       "       '06/01/2023', '21/01/2023', '02/01/2023', '19/01/2023',\n",
       "       '28/01/2023', '17/01/2023'], dtype=object)"
      ]
     },
     "execution_count": 161,
     "metadata": {},
     "output_type": "execute_result"
    }
   ],
   "source": [
    "SCC_Enero['FECHA_GESTION'].unique()"
   ]
  },
  {
   "cell_type": "code",
   "execution_count": 162,
   "id": "fb6834e6",
   "metadata": {},
   "outputs": [
    {
     "data": {
      "text/plain": [
       "DESCRIPCION_GRUPO_TIPIFICACION\n",
       "CONTACTO NO VÁLIDO    14707\n",
       "CONTACTO VÁLIDO       10995\n",
       "NO CONTACTO           13814\n",
       "Name: TELEFONO_GESTION, dtype: int64"
      ]
     },
     "execution_count": 162,
     "metadata": {},
     "output_type": "execute_result"
    }
   ],
   "source": [
    "SCC_Enero.groupby('DESCRIPCION_GRUPO_TIPIFICACION')['TELEFONO_GESTION'].count()"
   ]
  },
  {
   "cell_type": "code",
   "execution_count": 163,
   "id": "ea658372",
   "metadata": {},
   "outputs": [
    {
     "data": {
      "text/plain": [
       "DESCRIPCION_GRUPO_TIPIFICACION\n",
       "CONTACTO NO VÁLIDO    12989\n",
       "CONTACTO VÁLIDO        8050\n",
       "NO CONTACTO            8600\n",
       "Name: TELEFONO_GESTION, dtype: int64"
      ]
     },
     "execution_count": 163,
     "metadata": {},
     "output_type": "execute_result"
    }
   ],
   "source": [
    "SCC_Enero.groupby('DESCRIPCION_GRUPO_TIPIFICACION')['TELEFONO_GESTION'].nunique()"
   ]
  },
  {
   "cell_type": "code",
   "execution_count": 164,
   "id": "17bb07e2",
   "metadata": {},
   "outputs": [],
   "source": [
    "columnas_Enero=['FECHA_GESTION',\n",
    " 'HORA_GESTION',\n",
    " 'DURACION',\n",
    " 'DNI_AGENTE',\n",
    " 'DESCRIPCION_AGENTE',\n",
    " 'DESCRIPCION_GRUPO_TIPIFICACION',\n",
    " 'DESCRIPCION_TIPIFICACION',\n",
    " 'OBSERVACIONES',\n",
    " 'CODIGO_GESTION',\n",
    " 'CODIGO_AGENTE',\n",
    " 'TELEFONO_GESTION',\n",
    " 'AFILIADOS',\n",
    " 'FRECUENCIA_PAGO',\n",
    " 'PROGRAMA_AFILIADO',\n",
    " 'TIPO_VENTA',\n",
    " 'SERVICIO',\n",
    " 'BBDD',\n",
    " 'TYPE_LIST_DATE',\n",
    " 'VENTA_ANI',\n",
    " 'VENTA_CELULAR',\n",
    " 'DNI_CONTRATANTE',\n",
    " 'NOMBRE_CONTRATANTE',\n",
    " 'INTEGRACION',\n",
    " 'UTM_CAMPAIGN',\n",
    " 'UTM_CONTENT',\n",
    " 'UTM_MEDIUM',\n",
    " 'UTM_SOURCE',\n",
    " 'PRIORIDAD']"
   ]
  },
  {
   "cell_type": "code",
   "execution_count": 165,
   "id": "46b8aee1",
   "metadata": {},
   "outputs": [],
   "source": [
    "telefonos_Enero=SCC_Enero['TELEFONO_GESTION'].unique()"
   ]
  },
  {
   "cell_type": "code",
   "execution_count": 166,
   "id": "bc5f434a",
   "metadata": {},
   "outputs": [
    {
     "data": {
      "text/plain": [
       "array([941492873, 939328118, 999362252, ..., 947252785, 963954231,\n",
       "       995224929], dtype=int64)"
      ]
     },
     "execution_count": 166,
     "metadata": {},
     "output_type": "execute_result"
    }
   ],
   "source": [
    "telefonos_Enero"
   ]
  },
  {
   "cell_type": "code",
   "execution_count": 168,
   "id": "565cdae1",
   "metadata": {},
   "outputs": [],
   "source": [
    "DF_final=pd.DataFrame(columns=columnas_Enero)\n",
    "for cel in telefonos_Enero: \n",
    "    df_temp=SCC_Enero[SCC_Enero['TELEFONO_GESTION']==cel]\n",
    "    df_temp_CV=df_temp[df_temp['DESCRIPCION_GRUPO_TIPIFICACION']=='CONTACTO VÁLIDO']\n",
    "    if df_temp_CV.empty==True:\n",
    "        df_concatencar=df_temp\n",
    "    else:\n",
    "        df_concatencar=df_temp_CV\n",
    "    \n",
    "    DF_final=pd.concat([DF_final,df_concatencar], ignore_index=True)"
   ]
  },
  {
   "cell_type": "code",
   "execution_count": 171,
   "id": "c3461a4f",
   "metadata": {},
   "outputs": [
    {
     "data": {
      "text/plain": [
       "DESCRIPCION_GRUPO_TIPIFICACION\n",
       "CONTACTO NO VÁLIDO    12989\n",
       "CONTACTO VÁLIDO        8050\n",
       "NO CONTACTO            8600\n",
       "Name: TELEFONO_GESTION, dtype: int64"
      ]
     },
     "execution_count": 171,
     "metadata": {},
     "output_type": "execute_result"
    }
   ],
   "source": [
    "SCC_Enero.groupby('DESCRIPCION_GRUPO_TIPIFICACION')['TELEFONO_GESTION'].nunique()"
   ]
  },
  {
   "cell_type": "code",
   "execution_count": 170,
   "id": "8ad5dc4c",
   "metadata": {},
   "outputs": [
    {
     "data": {
      "text/plain": [
       "DESCRIPCION_GRUPO_TIPIFICACION\n",
       "CONTACTO NO VÁLIDO    10130\n",
       "CONTACTO VÁLIDO        8050\n",
       "NO CONTACTO            6013\n",
       "Name: TELEFONO_GESTION, dtype: int64"
      ]
     },
     "execution_count": 170,
     "metadata": {},
     "output_type": "execute_result"
    }
   ],
   "source": [
    "DF_final.groupby('DESCRIPCION_GRUPO_TIPIFICACION')['TELEFONO_GESTION'].nunique()"
   ]
  },
  {
   "cell_type": "code",
   "execution_count": 172,
   "id": "7fdad889",
   "metadata": {},
   "outputs": [
    {
     "data": {
      "text/plain": [
       "DESCRIPCION_GRUPO_TIPIFICACION\n",
       "CONTACTO NO VÁLIDO    0.418716\n",
       "CONTACTO VÁLIDO       0.332741\n",
       "NO CONTACTO           0.248543\n",
       "Name: TELEFONO_GESTION, dtype: float64"
      ]
     },
     "execution_count": 172,
     "metadata": {},
     "output_type": "execute_result"
    }
   ],
   "source": [
    "DF_final.groupby('DESCRIPCION_GRUPO_TIPIFICACION')['TELEFONO_GESTION'].nunique()/(10130+8050+6013)"
   ]
=======
   "id": "23503893",
   "metadata": {},
   "outputs": [],
   "source": []
>>>>>>> main
  }
 ],
 "metadata": {
  "kernelspec": {
   "display_name": "Python 3 (ipykernel)",
   "language": "python",
   "name": "python3"
  },
  "language_info": {
   "codemirror_mode": {
    "name": "ipython",
    "version": 3
   },
   "file_extension": ".py",
   "mimetype": "text/x-python",
   "name": "python",
   "nbconvert_exporter": "python",
   "pygments_lexer": "ipython3",
   "version": "3.10.9"
  }
 },
 "nbformat": 4,
 "nbformat_minor": 5
}
