{
 "cells": [
  {
   "cell_type": "code",
   "execution_count": 1,
   "id": "7fabfed9",
   "metadata": {},
   "outputs": [],
   "source": [
    "import pandas as pd \n",
    "import numpy as np"
   ]
  },
  {
   "cell_type": "code",
   "execution_count": 2,
   "id": "89cfbb65",
   "metadata": {},
   "outputs": [],
   "source": [
    "SCC=pd.read_excel(\"Gestión de Leads_SCC.xlsx\")"
   ]
  },
  {
   "cell_type": "code",
   "execution_count": 3,
   "id": "842eadf8",
   "metadata": {},
   "outputs": [
    {
     "name": "stdout",
     "output_type": "stream",
     "text": [
      "<class 'pandas.core.frame.DataFrame'>\n",
      "RangeIndex: 62831 entries, 0 to 62830\n",
      "Data columns (total 28 columns):\n",
      " #   Column                          Non-Null Count  Dtype         \n",
      "---  ------                          --------------  -----         \n",
      " 0   FECHA_GESTION                   62831 non-null  object        \n",
      " 1   HORA_GESTION                    62831 non-null  object        \n",
      " 2   DURACION                        62831 non-null  int64         \n",
      " 3   DNI_AGENTE                      62831 non-null  int64         \n",
      " 4   DESCRIPCION_AGENTE              62831 non-null  object        \n",
      " 5   DESCRIPCION_GRUPO_TIPIFICACION  62831 non-null  object        \n",
      " 6   DESCRIPCION_TIPIFICACION        62784 non-null  object        \n",
      " 7   OBSERVACIONES                   4365 non-null   object        \n",
      " 8   CODIGO_GESTION                  62831 non-null  int64         \n",
      " 9   CODIGO_AGENTE                   62831 non-null  int64         \n",
      " 10  TELEFONO_GESTION                62831 non-null  int64         \n",
      " 11  AFILIADOS                       815 non-null    float64       \n",
      " 12  FRECUENCIA_PAGO                 815 non-null    object        \n",
      " 13  PROGRAMA_AFILIADO               815 non-null    object        \n",
      " 14  TIPO_VENTA                      815 non-null    object        \n",
      " 15  SERVICIO                        815 non-null    object        \n",
      " 16  BBDD                            62831 non-null  object        \n",
      " 17  TYPE_LIST_DATE                  62831 non-null  datetime64[ns]\n",
      " 18  VENTA_ANI                       815 non-null    float64       \n",
      " 19  VENTA_CELULAR                   815 non-null    float64       \n",
      " 20  DNI_CONTRATANTE                 815 non-null    float64       \n",
      " 21  NOMBRE_CONTRATANTE              812 non-null    object        \n",
      " 22  INTEGRACION                     45823 non-null  object        \n",
      " 23  UTM_CAMPAIGN                    39567 non-null  object        \n",
      " 24  UTM_CONTENT                     36252 non-null  object        \n",
      " 25  UTM_MEDIUM                      36657 non-null  object        \n",
      " 26  UTM_SOURCE                      38121 non-null  object        \n",
      " 27  PRIORIDAD                       62831 non-null  int64         \n",
      "dtypes: datetime64[ns](1), float64(4), int64(6), object(17)\n",
      "memory usage: 13.4+ MB\n"
     ]
    }
   ],
   "source": [
    "SCC.info()"
   ]
  },
  {
   "cell_type": "code",
   "execution_count": 4,
   "id": "60348fa8",
   "metadata": {},
   "outputs": [
    {
     "data": {
      "text/plain": [
       "array(['16/02/2023', '02/02/2023', '28/02/2023', '09/02/2023',\n",
       "       '11/02/2023', '15/02/2023', '10/02/2023', '23/02/2023',\n",
       "       '24/02/2023', '25/02/2023', '27/02/2023', '14/02/2023',\n",
       "       '22/02/2023', '08/02/2023', '06/02/2023', '18/02/2023',\n",
       "       '17/02/2023', '21/02/2023', '13/02/2023', '03/02/2023',\n",
       "       '20/02/2023', '07/02/2023', '04/02/2023', '01/02/2023'],\n",
       "      dtype=object)"
      ]
     },
     "execution_count": 4,
     "metadata": {},
     "output_type": "execute_result"
    }
   ],
   "source": [
    "SCC['FECHA_GESTION'].unique()"
   ]
  }
 ],
 "metadata": {
  "kernelspec": {
   "display_name": "Python 3 (ipykernel)",
   "language": "python",
   "name": "python3"
  },
  "language_info": {
   "codemirror_mode": {
    "name": "ipython",
    "version": 3
   },
   "file_extension": ".py",
   "mimetype": "text/x-python",
   "name": "python",
   "nbconvert_exporter": "python",
   "pygments_lexer": "ipython3",
   "version": "3.10.9"
  }
 },
 "nbformat": 4,
 "nbformat_minor": 5
}
